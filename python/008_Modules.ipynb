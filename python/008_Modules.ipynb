{
 "cells": [
  {
   "metadata": {},
   "cell_type": "markdown",
   "source": [
    "# Module\n",
    "A file of containing code you want to include in your program"
   ],
   "id": "1773f734de4f766b"
  },
  {
   "cell_type": "code",
   "id": "initial_id",
   "metadata": {
    "collapsed": true,
    "ExecuteTime": {
     "end_time": "2025-06-26T16:04:38.735213Z",
     "start_time": "2025-06-26T16:04:33.110536Z"
    }
   },
   "source": [
    "from sys import modules\n",
    "\n",
    "help(\"modules\")"
   ],
   "outputs": [
    {
     "name": "stdout",
     "output_type": "stream",
     "text": [
      "\n",
      "Please wait a moment while I gather a list of all available modules...\n",
      "\n",
      "test_sqlite3: testing with SQLite version 3.45.3\n",
      "IPython             anyio               isoduration         referencing\n",
      "__future__          appnope             itertools           reprlib\n",
      "__hello__           argon2              jedi                requests\n",
      "__phello__          argparse            jinja2              resource\n",
      "_abc                array               json                rfc3339_validator\n",
      "_aix_support        arrow               json5               rfc3986_validator\n",
      "_argon2_cffi_bindings ast                 jsonpointer         rlcompleter\n",
      "_ast                asttokens           jsonschema          rpds\n",
      "_asyncio            async_lru           jsonschema_specifications runfiles\n",
      "_bisect             asyncio             jupyter             runpy\n",
      "_blake2             atexit              jupyter_client      sched\n",
      "_bz2                attr                jupyter_core        secrets\n",
      "_cffi_backend       attrs               jupyter_events      select\n",
      "_codecs             audioop             jupyter_lsp         selectors\n",
      "_codecs_cn          autocommand         jupyter_server      send2trash\n",
      "_codecs_hk          babel               jupyter_server_terminals setup_cython\n",
      "_codecs_iso2022     backports           jupyterlab          setuptools\n",
      "_codecs_jp          base64              jupyterlab_pygments shelve\n",
      "_codecs_kr          bdb                 jupyterlab_server   shlex\n",
      "_codecs_tw          binascii            keyword             shutil\n",
      "_collections        bisect              lib2to3             signal\n",
      "_collections_abc    bleach              linecache           site\n",
      "_compat_pickle      bs4                 locale              six\n",
      "_compression        builtins            logging             smtplib\n",
      "_contextvars        bz2                 lzma                sndhdr\n",
      "_crypt              cProfile            mailbox             sniffio\n",
      "_csv                calendar            mailcap             socket\n",
      "_ctypes             certifi             markupsafe          socketserver\n",
      "_ctypes_test        cffi                marshal             soupsieve\n",
      "_curses             cgi                 math                sqlite3\n",
      "_curses_panel       cgitb               matplotlib_inline   sre_compile\n",
      "_datetime           charset_normalizer  mimetypes           sre_constants\n",
      "_dbm                chunk               mistune             sre_parse\n",
      "_decimal            cmath               mmap                ssl\n",
      "_distutils_hack     cmd                 modulefinder        stack_data\n",
      "_elementtree        code                more_itertools      stat\n",
      "_functools          codecs              multiprocessing     statistics\n",
      "_hashlib            codeop              nbclient            string\n",
      "_heapq              collections         nbconvert           stringprep\n",
      "_imp                colorsys            nbformat            struct\n",
      "_io                 comm                nest_asyncio        subprocess\n",
      "_json               compileall          netrc               sunau\n",
      "_locale             concurrent          nis                 symtable\n",
      "_lsprof             configparser        nntplib             sys\n",
      "_lzma               contextlib          notebook_shim       sysconfig\n",
      "_markupbase         contextvars         ntpath              syslog\n",
      "_md5                copy                nturl2path          tabnanny\n",
      "_multibytecodec     copyreg             numbers             tarfile\n",
      "_multiprocessing    crypt               opcode              telnetlib\n",
      "_opcode             csv                 operator            tempfile\n",
      "_operator           ctypes              optparse            terminado\n",
      "_osx_support        curses              os                  termios\n",
      "_pickle             dataclasses         overrides           test\n",
      "_posixshmem         datetime            packaging           textwrap\n",
      "_posixsubprocess    dateutil            pandocfilters       this\n",
      "_py_abc             dbm                 parso               threading\n",
      "_pydatetime         debugpy             pathlib             time\n",
      "_pydecimal          decimal             pdb                 timeit\n",
      "_pydev_bundle       decorator           pexpect             tinycss2\n",
      "_pydev_comm         defusedxml          pickle              tkinter\n",
      "_pydev_imps         difflib             pickletools         token\n",
      "_pydev_runfiles     dis                 pip                 tokenize\n",
      "_pydevd_bundle      doctest             pipes               tomli\n",
      "_pydevd_frame_eval  email               pkg_resources       tomllib\n",
      "_pyio               encodings           pkgutil             tornado\n",
      "_pylong             ensurepip           platform            trace\n",
      "_queue              enum                platformdirs        traceback\n",
      "_random             errno               plistlib            tracemalloc\n",
      "_scproxy            executing           poplib              traitlets\n",
      "_sha1               fastjsonschema      posix               tty\n",
      "_sha2               faulthandler        posixpath           turtle\n",
      "_sha3               fcntl               pprint              turtledemo\n",
      "_signal             filecmp             profile             typeguard\n",
      "_sitebuiltins       fileinput           prometheus_client   types\n",
      "_socket             fnmatch             prompt_toolkit      typing\n",
      "_sqlite3            fqdn                pstats              typing_extensions\n",
      "_sre                fractions           psutil              unicodedata\n",
      "_ssl                ftplib              pty                 unittest\n",
      "_stat               functools           ptyprocess          uri_template\n",
      "_statistics         gc                  pure_eval           urllib\n",
      "_string             genericpath         pwd                 urllib3\n",
      "_strptime           getopt              py_compile          uu\n",
      "_struct             getpass             pyclbr              uuid\n",
      "_symtable           gettext             pycompletionserver  venv\n",
      "_sysconfigdata__darwin_darwin glob                pycparser           warnings\n",
      "_testbuffer         graphlib            pydev_app_engine_debug_startup wave\n",
      "_testcapi           grp                 pydev_console       wcwidth\n",
      "_testclinic         gzip                pydev_coverage      weakref\n",
      "_testimportmultiple h11                 pydev_ipython       webbrowser\n",
      "_testinternalcapi   hashlib             pydev_jupyter_plugin webcolors\n",
      "_testmultiphase     heapq               pydev_jupyter_utils webencodings\n",
      "_testsinglephase    hmac                pydev_jupyter_vars  websocket\n",
      "_thread             html                pydev_pysrc         wheel\n",
      "_threading_local    http                pydevconsole        wsgiref\n",
      "_tkinter            httpcore            pydevd              xdrlib\n",
      "_tokenize           httpx               pydevd_concurrency_analyser xml\n",
      "_tracemalloc        idlelib             pydevd_file_utils   xmlrpc\n",
      "_typing             idna                pydevd_plugins      xxlimited\n",
      "_uuid               imaplib             pydevd_pycharm      xxlimited_35\n",
      "_warnings           imghdr              pydevd_tracing      xxsubtype\n",
      "_weakref            importlib           pydoc               yaml\n",
      "_weakrefset         importlib_metadata  pydoc_data          zipapp\n",
      "_xxinterpchannels   inflect             pyexpat             zipfile\n",
      "_xxsubinterpreters  inspect             pygments            zipimport\n",
      "_xxtestfuzz         interpreterInfo     pythonjsonlogger    zipp\n",
      "_yaml               io                  queue               zlib\n",
      "_zoneinfo           ipaddress           quopri              zmq\n",
      "abc                 ipykernel           random              zoneinfo\n",
      "aifc                ipykernel_launcher  re                  \n",
      "antigravity         ipython_pygments_lexers readline            \n",
      "\n",
      "Enter any module name to get more help.  Or, type \"modules spam\" to search\n",
      "for modules whose name or summary contain the string \"spam\".\n",
      "\n"
     ]
    }
   ],
   "execution_count": 2
  },
  {
   "metadata": {
    "ExecuteTime": {
     "end_time": "2025-06-26T16:06:38.515303Z",
     "start_time": "2025-06-26T16:06:38.500412Z"
    }
   },
   "cell_type": "code",
   "source": [
    "import math\n",
    "math.pi"
   ],
   "id": "f51fa5c853351582",
   "outputs": [
    {
     "data": {
      "text/plain": [
       "3.141592653589793"
      ]
     },
     "execution_count": 3,
     "metadata": {},
     "output_type": "execute_result"
    }
   ],
   "execution_count": 3
  },
  {
   "metadata": {
    "ExecuteTime": {
     "end_time": "2025-06-26T16:07:37.905630Z",
     "start_time": "2025-06-26T16:07:37.899503Z"
    }
   },
   "cell_type": "code",
   "source": [
    "import math as m\n",
    "m.pi"
   ],
   "id": "61f24b3e8518c43a",
   "outputs": [
    {
     "data": {
      "text/plain": [
       "3.141592653589793"
      ]
     },
     "execution_count": 4,
     "metadata": {},
     "output_type": "execute_result"
    }
   ],
   "execution_count": 4
  },
  {
   "metadata": {
    "ExecuteTime": {
     "end_time": "2025-06-26T16:09:26.741657Z",
     "start_time": "2025-06-26T16:09:26.736879Z"
    }
   },
   "cell_type": "code",
   "source": [
    "from math import pi\n",
    "pi"
   ],
   "id": "634c64a1d425c672",
   "outputs": [
    {
     "data": {
      "text/plain": [
       "3.141592653589793"
      ]
     },
     "execution_count": 5,
     "metadata": {},
     "output_type": "execute_result"
    }
   ],
   "execution_count": 5
  },
  {
   "metadata": {
    "ExecuteTime": {
     "end_time": "2025-06-26T16:10:55.886417Z",
     "start_time": "2025-06-26T16:10:55.881497Z"
    }
   },
   "cell_type": "code",
   "source": [
    "import math\n",
    "\n",
    "a, b, c, d, e = 1, 2, 3, 4, 5\n",
    "\n",
    "print(math.e ** a)\n",
    "print(math.e ** b)\n",
    "print(math.e ** c)\n",
    "print(math.e ** d)\n",
    "print(math.e ** e)"
   ],
   "id": "41c0487fb5d60685",
   "outputs": [
    {
     "name": "stdout",
     "output_type": "stream",
     "text": [
      "2.718281828459045\n",
      "7.3890560989306495\n",
      "20.085536923187664\n",
      "54.59815003314423\n",
      "148.41315910257657\n"
     ]
    }
   ],
   "execution_count": 7
  },
  {
   "metadata": {
    "ExecuteTime": {
     "end_time": "2025-06-26T16:15:48.150143Z",
     "start_time": "2025-06-26T16:15:48.144381Z"
    }
   },
   "cell_type": "code",
   "source": [
    "import ExampleModule\n",
    "\n",
    "print(ExampleModule.pi)\n",
    "print(ExampleModule.square(3))"
   ],
   "id": "e0aeaa16fe13b03c",
   "outputs": [
    {
     "name": "stdout",
     "output_type": "stream",
     "text": [
      "3.14\n",
      "9\n"
     ]
    }
   ],
   "execution_count": 9
  },
  {
   "metadata": {},
   "cell_type": "code",
   "outputs": [],
   "execution_count": null,
   "source": "",
   "id": "7dee91c745b9df2c"
  }
 ],
 "metadata": {
  "kernelspec": {
   "display_name": "Python 3",
   "language": "python",
   "name": "python3"
  },
  "language_info": {
   "codemirror_mode": {
    "name": "ipython",
    "version": 2
   },
   "file_extension": ".py",
   "mimetype": "text/x-python",
   "name": "python",
   "nbconvert_exporter": "python",
   "pygments_lexer": "ipython2",
   "version": "2.7.6"
  }
 },
 "nbformat": 4,
 "nbformat_minor": 5
}
