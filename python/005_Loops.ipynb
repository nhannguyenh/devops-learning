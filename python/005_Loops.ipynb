{
 "cells": [
  {
   "cell_type": "markdown",
   "id": "cb4030aa",
   "metadata": {},
   "source": [
    "# Loops\n",
    "## While loops\n",
    "Execute code while conditions remain true"
   ]
  },
  {
   "cell_type": "code",
   "execution_count": 2,
   "id": "35ff9c81",
   "metadata": {},
   "outputs": [
    {
     "name": "stdout",
     "output_type": "stream",
     "text": [
      "You did not enter your name\n",
      "You did not enter your name\n",
      "Hello Jackie\n"
     ]
    }
   ],
   "source": [
    "name = input(\"Enter your name: \")\n",
    "\n",
    "while name == \"\":\n",
    "    print(\"You did not enter your name\")\n",
    "    name = input(\"Enter your name: \")\n",
    "print(f\"Hello {name}\")"
   ]
  },
  {
   "metadata": {},
   "cell_type": "markdown",
   "source": [
    "## For loops\n",
    "Execute a block of code a fixed number of times"
   ],
   "id": "37ad6ece4910e16d"
  },
  {
   "metadata": {
    "ExecuteTime": {
     "end_time": "2025-06-23T14:01:51.752317Z",
     "start_time": "2025-06-23T14:01:51.744880Z"
    }
   },
   "cell_type": "code",
   "source": [
    "for num in range(1, 11):\n",
    "    print(num)"
   ],
   "id": "a1f0d40a09060b4",
   "outputs": [
    {
     "name": "stdout",
     "output_type": "stream",
     "text": [
      "1\n",
      "2\n",
      "3\n",
      "4\n",
      "5\n",
      "6\n",
      "7\n",
      "8\n",
      "9\n",
      "10\n"
     ]
    }
   ],
   "execution_count": 1
  }
 ],
 "metadata": {
  "kernelspec": {
   "display_name": "Python 3",
   "language": "python",
   "name": "python3"
  },
  "language_info": {
   "codemirror_mode": {
    "name": "ipython",
    "version": 3
   },
   "file_extension": ".py",
   "mimetype": "text/x-python",
   "name": "python",
   "nbconvert_exporter": "python",
   "pygments_lexer": "ipython3",
   "version": "3.13.4"
  }
 },
 "nbformat": 4,
 "nbformat_minor": 5
}
