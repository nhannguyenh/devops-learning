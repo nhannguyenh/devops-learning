{
 "cells": [
  {
   "cell_type": "markdown",
   "id": "86ea58f8",
   "metadata": {},
   "source": [
    "# Variables\n",
    "A container for storing data value (string, integer, float, and boolean)\n",
    "## Strings"
   ]
  },
  {
   "cell_type": "code",
   "execution_count": 2,
   "id": "fe3464fa",
   "metadata": {},
   "outputs": [
    {
     "name": "stdout",
     "output_type": "stream",
     "text": [
      "Hello Jackie\n",
      "You like Vietnamese food\n"
     ]
    }
   ],
   "source": [
    "name = \"Jackie\"\n",
    "food = \"Vietnamese food\"\n",
    "\n",
    "print(f\"Hello {name}\")\n",
    "print(f\"You like {food}\")"
   ]
  },
  {
   "cell_type": "markdown",
   "id": "4e6b3436",
   "metadata": {},
   "source": [
    "## Integers"
   ]
  },
  {
   "cell_type": "code",
   "execution_count": 3,
   "id": "be3629a0",
   "metadata": {},
   "outputs": [
    {
     "name": "stdout",
     "output_type": "stream",
     "text": [
      "You are 33 years old\n",
      "You're buying 3 pizzas\n"
     ]
    }
   ],
   "source": [
    "age = 33\n",
    "quantity = 3\n",
    "\n",
    "print(f\"You are {age} years old\")\n",
    "print(f\"You're buying {quantity} pizzas\")\n"
   ]
  },
  {
   "cell_type": "markdown",
   "id": "58388fe7",
   "metadata": {},
   "source": [
    "## Floats"
   ]
  },
  {
   "cell_type": "code",
   "execution_count": 4,
   "id": "5a297f5e",
   "metadata": {},
   "outputs": [
    {
     "name": "stdout",
     "output_type": "stream",
     "text": [
      "The price is $10.99\n",
      "Your gpa is 3.5\n"
     ]
    }
   ],
   "source": [
    "price = 10.99\n",
    "gpa = 3.5\n",
    "\n",
    "print(f\"The price is ${price}\")\n",
    "print(f\"Your gpa is {gpa}\")"
   ]
  },
  {
   "cell_type": "markdown",
   "id": "f122de99",
   "metadata": {},
   "source": [
    "## Booleans"
   ]
  },
  {
   "cell_type": "code",
   "execution_count": 5,
   "id": "282f069b",
   "metadata": {},
   "outputs": [
    {
     "name": "stdout",
     "output_type": "stream",
     "text": [
      "Are you a student? False\n",
      "Are you online? True\n"
     ]
    }
   ],
   "source": [
    "isStudent = False\n",
    "isOnline = True\n",
    "\n",
    "print(f\"Are you a student? {isStudent}\")\n",
    "print(f\"Are you online? {isOnline}\")"
   ]
  },
  {
   "cell_type": "markdown",
   "id": "eae729bb",
   "metadata": {},
   "source": [
    "# Type Casting\n",
    "The process of converting a variable from one data type to another (str(), int(), float(), bool())\n",
    "## str()"
   ]
  },
  {
   "cell_type": "code",
   "execution_count": 17,
   "id": "05c0088e",
   "metadata": {},
   "outputs": [
    {
     "name": "stdout",
     "output_type": "stream",
     "text": [
      "<class 'int'>\n",
      "<class 'str'>\n"
     ]
    }
   ],
   "source": [
    "age = 33\n",
    "print(type(age))\n",
    "\n",
    "age = str(age)\n",
    "print(type(age))"
   ]
  },
  {
   "cell_type": "markdown",
   "id": "dfa69a6f",
   "metadata": {},
   "source": [
    "## int()"
   ]
  },
  {
   "cell_type": "code",
   "execution_count": 18,
   "id": "06ef2012",
   "metadata": {},
   "outputs": [
    {
     "name": "stdout",
     "output_type": "stream",
     "text": [
      "<class 'float'>\n",
      "<class 'int'>\n"
     ]
    }
   ],
   "source": [
    "height = 170.5\n",
    "print(type(height))\n",
    "\n",
    "height = int(height)\n",
    "print(type(height))"
   ]
  },
  {
   "cell_type": "markdown",
   "id": "c7b7100e",
   "metadata": {},
   "source": [
    "## float()"
   ]
  },
  {
   "cell_type": "code",
   "execution_count": 20,
   "id": "cf9022b4",
   "metadata": {},
   "outputs": [
    {
     "name": "stdout",
     "output_type": "stream",
     "text": [
      "<class 'int'>\n",
      "<class 'float'>\n"
     ]
    }
   ],
   "source": [
    "age = 33\n",
    "print(type(age))\n",
    "\n",
    "age = float(age)\n",
    "print(type(age))"
   ]
  },
  {
   "cell_type": "markdown",
   "id": "adb7b252",
   "metadata": {},
   "source": [
    "## bool()"
   ]
  },
  {
   "cell_type": "code",
   "execution_count": 21,
   "id": "fabd41d9",
   "metadata": {},
   "outputs": [
    {
     "name": "stdout",
     "output_type": "stream",
     "text": [
      "<class 'str'>\n",
      "<class 'bool'>\n"
     ]
    }
   ],
   "source": [
    "name = \"Jackie\"\n",
    "print(type(name))\n",
    "\n",
    "name = bool(name)\n",
    "print(type(name))"
   ]
  }
 ],
 "metadata": {
  "kernelspec": {
   "display_name": "Python 3",
   "language": "python",
   "name": "python3"
  },
  "language_info": {
   "codemirror_mode": {
    "name": "ipython",
    "version": 3
   },
   "file_extension": ".py",
   "mimetype": "text/x-python",
   "name": "python",
   "nbconvert_exporter": "python",
   "pygments_lexer": "ipython3",
   "version": "3.13.4"
  }
 },
 "nbformat": 4,
 "nbformat_minor": 5
}
