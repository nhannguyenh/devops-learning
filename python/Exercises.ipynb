{
 "cells": [
  {
   "cell_type": "markdown",
   "id": "ef70ea14",
   "metadata": {},
   "source": [
    "# Exercise 1: Rectangle Area Calc"
   ]
  },
  {
   "cell_type": "code",
   "execution_count": 1,
   "id": "10e829bd",
   "metadata": {},
   "outputs": [
    {
     "name": "stdout",
     "output_type": "stream",
     "text": [
      "The area is 32.64cm²\n"
     ]
    }
   ],
   "source": [
    "length = float(input(\"Enter the length of the rectangle: \"))\n",
    "width = float(input(\"Enter the width of the rectangle: \"))\n",
    "\n",
    "area = length * width\n",
    "\n",
    "# Control + Command + Space to use the superscript in Mac\n",
    "print(f\"The area is {area}cm²\")"
   ]
  },
  {
   "cell_type": "markdown",
   "id": "ccc04a87",
   "metadata": {},
   "source": [
    "# Exercise 2: Shopping Cart Program"
   ]
  },
  {
   "cell_type": "code",
   "execution_count": 2,
   "id": "53e63127",
   "metadata": {},
   "outputs": [
    {
     "name": "stdout",
     "output_type": "stream",
     "text": [
      "You have bought 5 books\n",
      "Your total is $8.4\n"
     ]
    }
   ],
   "source": [
    "item = input(\"What item would you like to buy?\")\n",
    "price = float(input(\"What is the price?\"))\n",
    "quatity = int(input(\"How many would you like?\"))\n",
    "\n",
    "total = price + quatity\n",
    "print(f\"You have bought {quatity} {item}s\")\n",
    "print(f\"Your total is ${total}\")"
   ]
  },
  {
   "cell_type": "code",
   "execution_count": null,
   "id": "9dd0fe30",
   "metadata": {},
   "outputs": [],
   "source": []
  }
 ],
 "metadata": {
  "kernelspec": {
   "display_name": "Python 3",
   "language": "python",
   "name": "python3"
  },
  "language_info": {
   "codemirror_mode": {
    "name": "ipython",
    "version": 3
   },
   "file_extension": ".py",
   "mimetype": "text/x-python",
   "name": "python",
   "nbconvert_exporter": "python",
   "pygments_lexer": "ipython3",
   "version": "3.13.4"
  }
 },
 "nbformat": 4,
 "nbformat_minor": 5
}
