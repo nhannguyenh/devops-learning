{
 "cells": [
  {
   "cell_type": "markdown",
   "id": "ef70ea14",
   "metadata": {},
   "source": [
    "# Exercise 1: Rectangle Area Calc"
   ]
  },
  {
   "cell_type": "code",
   "execution_count": 1,
   "id": "10e829bd",
   "metadata": {},
   "outputs": [
    {
     "name": "stdout",
     "output_type": "stream",
     "text": [
      "The area is 32.64cm²\n"
     ]
    }
   ],
   "source": [
    "length = float(input(\"Enter the length of the rectangle: \"))\n",
    "width = float(input(\"Enter the width of the rectangle: \"))\n",
    "\n",
    "area = length * width\n",
    "\n",
    "# Control + Command + Space to use the superscript in Mac\n",
    "print(f\"The area is {area}cm²\")"
   ]
  },
  {
   "cell_type": "markdown",
   "id": "ccc04a87",
   "metadata": {},
   "source": [
    "# Exercise 2: Shopping Cart Program"
   ]
  },
  {
   "cell_type": "code",
   "execution_count": 2,
   "id": "53e63127",
   "metadata": {},
   "outputs": [
    {
     "name": "stdout",
     "output_type": "stream",
     "text": [
      "You have bought 5 books\n",
      "Your total is $8.4\n"
     ]
    }
   ],
   "source": [
    "item = input(\"What item would you like to buy?\")\n",
    "price = float(input(\"What is the price?\"))\n",
    "quatity = int(input(\"How many would you like?\"))\n",
    "\n",
    "total = price + quatity\n",
    "print(f\"You have bought {quatity} {item}s\")\n",
    "print(f\"Your total is ${total}\")"
   ]
  },
  {
   "cell_type": "markdown",
   "id": "b6f16899",
   "metadata": {},
   "source": [
    "# Exercise 3: Calculator"
   ]
  },
  {
   "cell_type": "code",
   "execution_count": null,
   "id": "9dd0fe30",
   "metadata": {},
   "outputs": [
    {
     "name": "stdout",
     "output_type": "stream",
     "text": [
      "4.0 - 8.0 = -4.0\n"
     ]
    }
   ],
   "source": [
    "num1 = float(input(\"Enter the first number: \"))\n",
    "num2 = float(input(\"Enter the second number: \"))\n",
    "operator = input(\"Enter an operator (+, -, *, /): \")\n",
    "\n",
    "if operator == \"+\":\n",
    "    print(f\"{num1} + {num2} = {num1 + num2}\")\n",
    "elif operator == \"-\":\n",
    "    print(f\"{num1} - {num2} = {num1 - num2}\")\n",
    "elif operator == \"*\":\n",
    "    print(f\"{num1} * {num2} = {num1 * num2}\")\n",
    "elif operator == \"/\":\n",
    "    print(f\"{num1} / {num2} = {num1 / num2}\")\n",
    "else:\n",
    "    print(\"The opertor is not correct!!!\")"
   ]
  },
  {
   "cell_type": "markdown",
   "id": "4ef53b98",
   "metadata": {},
   "source": [
    "# Exercise 4: Temperature conversion"
   ]
  },
  {
   "cell_type": "code",
   "execution_count": 7,
   "id": "a1eaefb7",
   "metadata": {},
   "outputs": [
    {
     "name": "stdout",
     "output_type": "stream",
     "text": [
      "The temperature in Celsius is 7.2°C\n"
     ]
    }
   ],
   "source": [
    "unit = input(\"Is this temperature in Celsius (C) or Fahenheit (F)?\")\n",
    "temperature = float(input(\"Enter the temperature: \"))\n",
    "\n",
    "if unit == \"C\":\n",
    "    temperature = round((temperature * 9 / 5) + 32, 1)\n",
    "    print(f\"The temperature in Fahenheit is {temperature}°F\")\n",
    "elif unit == \"F\":\n",
    "    temperature = round((temperature - 32) * 5 / 9, 1)\n",
    "    print(f\"The temperature in Celsius is {temperature}°C\")\n",
    "else:\n",
    "    print(f\"{unit} is an invalid unit of measurement\")"
   ]
  },
  {
   "cell_type": "markdown",
   "id": "635ad93a",
   "metadata": {},
   "source": [
    "# Exercise 5: Compound interest calculator"
   ]
  },
  {
   "cell_type": "code",
   "execution_count": 4,
   "id": "2bf7c0a9",
   "metadata": {},
   "outputs": [
    {
     "name": "stdout",
     "output_type": "stream",
     "text": [
      "Your balance after 4 years: $12155.06 if you invest $10000.0 with rate 5.0%\n"
     ]
    }
   ],
   "source": [
    "principle = 0\n",
    "rate = 0\n",
    "time = 0\n",
    "\n",
    "while principle <= 0:\n",
    "    principle = float(input(\"Enter the principle amount: \"))\n",
    "    if principle <= 0:\n",
    "        print(\"Principle can't be less than or equal to zero\")\n",
    "\n",
    "while rate <= 0:\n",
    "    rate = float(input(\"Enter the interest rate: \"))\n",
    "    if rate <= 0:\n",
    "        print(\"Interest rate can't be less than or equal to zero\")\n",
    "\n",
    "while time <= 0:\n",
    "    time = int(input(\"Enter the time in years: \"))\n",
    "    if time <= 0:\n",
    "        print(\"Time can't be less than or equal to zero\")\n",
    "\n",
    "total = principle * pow((1 + rate/100), time)\n",
    "print(f\"Your balance after {time} years: ${total:.2f} if you invest ${principle} with rate {rate}%\")\n"
   ]
  }
 ],
 "metadata": {
  "kernelspec": {
   "display_name": "Python 3",
   "language": "python",
   "name": "python3"
  },
  "language_info": {
   "codemirror_mode": {
    "name": "ipython",
    "version": 3
   },
   "file_extension": ".py",
   "mimetype": "text/x-python",
   "name": "python",
   "nbconvert_exporter": "python",
   "pygments_lexer": "ipython3",
   "version": "3.13.4"
  }
 },
 "nbformat": 4,
 "nbformat_minor": 5
}
