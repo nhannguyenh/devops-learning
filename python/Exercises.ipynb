{
 "cells": [
  {
   "cell_type": "markdown",
   "id": "ef70ea14",
   "metadata": {},
   "source": [
    "# Exercise 1: Rectangle Area Calc"
   ]
  },
  {
   "cell_type": "code",
   "execution_count": 1,
   "id": "10e829bd",
   "metadata": {},
   "outputs": [
    {
     "name": "stdout",
     "output_type": "stream",
     "text": [
      "The area is 32.64cm²\n"
     ]
    }
   ],
   "source": [
    "length = float(input(\"Enter the length of the rectangle: \"))\n",
    "width = float(input(\"Enter the width of the rectangle: \"))\n",
    "\n",
    "area = length * width\n",
    "\n",
    "# Control + Command + Space to use the superscript in Mac\n",
    "print(f\"The area is {area}cm²\")"
   ]
  },
  {
   "cell_type": "markdown",
   "id": "ccc04a87",
   "metadata": {},
   "source": [
    "# Exercise 2: Shopping Cart Program"
   ]
  },
  {
   "cell_type": "code",
   "execution_count": 2,
   "id": "53e63127",
   "metadata": {},
   "outputs": [
    {
     "name": "stdout",
     "output_type": "stream",
     "text": [
      "You have bought 5 books\n",
      "Your total is $8.4\n"
     ]
    }
   ],
   "source": [
    "item = input(\"What item would you like to buy?\")\n",
    "price = float(input(\"What is the price?\"))\n",
    "quatity = int(input(\"How many would you like?\"))\n",
    "\n",
    "total = price + quatity\n",
    "print(f\"You have bought {quatity} {item}s\")\n",
    "print(f\"Your total is ${total}\")"
   ]
  },
  {
   "cell_type": "markdown",
   "id": "b6f16899",
   "metadata": {},
   "source": [
    "# Exercise 3: Calculator"
   ]
  },
  {
   "cell_type": "code",
   "execution_count": null,
   "id": "9dd0fe30",
   "metadata": {},
   "outputs": [
    {
     "name": "stdout",
     "output_type": "stream",
     "text": [
      "4.0 - 8.0 = -4.0\n"
     ]
    }
   ],
   "source": [
    "num1 = float(input(\"Enter the first number: \"))\n",
    "num2 = float(input(\"Enter the second number: \"))\n",
    "operator = input(\"Enter an operator (+, -, *, /): \")\n",
    "\n",
    "if operator == \"+\":\n",
    "    print(f\"{num1} + {num2} = {num1 + num2}\")\n",
    "elif operator == \"-\":\n",
    "    print(f\"{num1} - {num2} = {num1 - num2}\")\n",
    "elif operator == \"*\":\n",
    "    print(f\"{num1} * {num2} = {num1 * num2}\")\n",
    "elif operator == \"/\":\n",
    "    print(f\"{num1} / {num2} = {num1 / num2}\")\n",
    "else:\n",
    "    print(\"The opertor is not correct!!!\")"
   ]
  },
  {
   "cell_type": "markdown",
   "id": "4ef53b98",
   "metadata": {},
   "source": [
    "# Exercise 4: Temperature conversion"
   ]
  },
  {
   "cell_type": "code",
   "execution_count": 7,
   "id": "a1eaefb7",
   "metadata": {},
   "outputs": [
    {
     "name": "stdout",
     "output_type": "stream",
     "text": [
      "The temperature in Celsius is 7.2°C\n"
     ]
    }
   ],
   "source": [
    "unit = input(\"Is this temperature in Celsius (C) or Fahenheit (F)?\")\n",
    "temperature = float(input(\"Enter the temperature: \"))\n",
    "\n",
    "if unit == \"C\":\n",
    "    temperature = round((temperature * 9 / 5) + 32, 1)\n",
    "    print(f\"The temperature in Fahenheit is {temperature}°F\")\n",
    "elif unit == \"F\":\n",
    "    temperature = round((temperature - 32) * 5 / 9, 1)\n",
    "    print(f\"The temperature in Celsius is {temperature}°C\")\n",
    "else:\n",
    "    print(f\"{unit} is an invalid unit of measurement\")"
   ]
  },
  {
   "cell_type": "markdown",
   "id": "635ad93a",
   "metadata": {},
   "source": [
    "# Exercise 5: Compound interest calculator"
   ]
  },
  {
   "cell_type": "code",
   "execution_count": 4,
   "id": "2bf7c0a9",
   "metadata": {},
   "outputs": [
    {
     "name": "stdout",
     "output_type": "stream",
     "text": [
      "Your balance after 4 years: $12155.06 if you invest $10000.0 with rate 5.0%\n"
     ]
    }
   ],
   "source": [
    "principle = 0\n",
    "rate = 0\n",
    "time = 0\n",
    "\n",
    "while principle <= 0:\n",
    "    principle = float(input(\"Enter the principle amount: \"))\n",
    "    if principle <= 0:\n",
    "        print(\"Principle can't be less than or equal to zero\")\n",
    "\n",
    "while rate <= 0:\n",
    "    rate = float(input(\"Enter the interest rate: \"))\n",
    "    if rate <= 0:\n",
    "        print(\"Interest rate can't be less than or equal to zero\")\n",
    "\n",
    "while time <= 0:\n",
    "    time = int(input(\"Enter the time in years: \"))\n",
    "    if time <= 0:\n",
    "        print(\"Time can't be less than or equal to zero\")\n",
    "\n",
    "total = principle * pow((1 + rate/100), time)\n",
    "print(f\"Your balance after {time} years: ${total:.2f} if you invest ${principle} with rate {rate}%\")\n"
   ]
  },
  {
   "metadata": {},
   "cell_type": "markdown",
   "source": "# Exercise 6: Countdown timer",
   "id": "db79f58d17401728"
  },
  {
   "metadata": {
    "ExecuteTime": {
     "end_time": "2025-06-23T14:20:21.578493Z",
     "start_time": "2025-06-23T14:20:11.965553Z"
    }
   },
   "cell_type": "code",
   "source": [
    "import time\n",
    "\n",
    "myTime = int(input(\"Enter the time in seconds: \"))\n",
    "\n",
    "for x in range(myTime, 0, -1):\n",
    "    seconds = x % 60\n",
    "    minutes = int(x / 60) % 60\n",
    "    hours = int(x / 3600)\n",
    "    print(f\"{hours:02}:{minutes:02}:{seconds:02}\")\n",
    "    time.sleep(1)\n",
    "\n",
    "print(\"TIME'S UP!\")"
   ],
   "id": "9a08c30aa77fc589",
   "outputs": [
    {
     "name": "stdout",
     "output_type": "stream",
     "text": [
      "00:00:05\n",
      "00:00:04\n",
      "00:00:03\n",
      "00:00:02\n",
      "00:00:01\n",
      "TIME'S UP!\n"
     ]
    }
   ],
   "execution_count": 6
  },
  {
   "metadata": {},
   "cell_type": "markdown",
   "source": "# Exercise 7: Advance Shopping Cart",
   "id": "f65335eb7788bf00"
  },
  {
   "metadata": {
    "ExecuteTime": {
     "end_time": "2025-06-23T15:34:07.023639Z",
     "start_time": "2025-06-23T15:33:28.362029Z"
    }
   },
   "cell_type": "code",
   "source": [
    "foods = []\n",
    "prices = []\n",
    "total = 0\n",
    "\n",
    "while True:\n",
    "    food = input(\"Enter the food that you would like to buy (q to quit): \")\n",
    "    if food.lower() == \"q\":\n",
    "        break\n",
    "    else:\n",
    "        price = float(input(f\"Enter the price of {food}: $\"))\n",
    "        foods.append(food)\n",
    "        prices.append(price)\n",
    "\n",
    "print(\"----- YOUR CART -----\")\n",
    "for price in prices:\n",
    "    total += price\n",
    "\n",
    "print(f\"The total price is ${total}\")"
   ],
   "id": "f516016d2f4861ac",
   "outputs": [
    {
     "name": "stdout",
     "output_type": "stream",
     "text": [
      "----- YOUR CART -----\n",
      "The total price is $13.8\n"
     ]
    }
   ],
   "execution_count": 7
  },
  {
   "metadata": {},
   "cell_type": "markdown",
   "source": "# Exercise 8: Quiz game",
   "id": "7e8f4da5c6416ca4"
  },
  {
   "metadata": {
    "ExecuteTime": {
     "end_time": "2025-06-25T15:02:54.910056Z",
     "start_time": "2025-06-25T15:02:43.256509Z"
    }
   },
   "cell_type": "code",
   "source": [
    "questions = (\"How many elements are in the periodic tables?: \",\n",
    "             \"Which animal lays the largest eggs?: \",\n",
    "             \"What is the most abundant gas in Earth's atmosphere?: \",\n",
    "             \"How many bones are in the human body?: \",\n",
    "             \"Which planet in the solar system is the hottest?:\")\n",
    "\n",
    "options = ((\"A. 116\", \"B. 117\", \"C. 118\", \"D. 119\"),\n",
    "           (\"A. Whale\", \"B. Crocodile\", \"C. Elephant\", \"D. Ostrich\"),\n",
    "           (\"A. Nitrogen\", \"B. Oxygen\", \"C. Carbon-Dioxide\", \"D. Hydrogen\"),\n",
    "           (\"A. 206\", \"B. 207\", \"C. 208\", \"D. 209\"),\n",
    "           (\"A. Mercury\", \"B. Venus\", \"C. Earth\", \"D. Mars\"))\n",
    "\n",
    "answers = (\"C\", \"D\", \"A\", \"A\", \"B\")\n",
    "guesses = []\n",
    "score = 0\n",
    "questionNumber = 0\n",
    "\n",
    "for question in questions:\n",
    "    print(\"----------------------------------------\")\n",
    "    print(question)\n",
    "    for option in options[questionNumber]:\n",
    "        print(option)\n",
    "    guess = input(\"Enter (A, B, C, D: \").upper()\n",
    "    guesses.append(guess)\n",
    "\n",
    "    if guess == answers[questionNumber]:\n",
    "        score += 1\n",
    "        print(\"CORRECT!\")\n",
    "    else:\n",
    "        print(\"INCORRECT!\")\n",
    "        print(f\"{answers[questionNumber]} is the correct answer\")\n",
    "    questionNumber += 1\n",
    "print(\"========================================\")\n",
    "print(\"                 RESULT                 \")\n",
    "print(\"========================================\")\n",
    "print(\"Answers: \", end=\" \")\n",
    "for answer in answers:\n",
    "    print(answer, end=\" \")\n",
    "print()\n",
    "\n",
    "print(\"Guesses:\", end=\" \")\n",
    "for guess in guesses:\n",
    "    print(guess, end=\" \")\n",
    "print()\n",
    "\n",
    "score = int(score / len(questions) * 100)\n",
    "print(f\"You total score is {score}%\")\n"
   ],
   "id": "24349bdc600ac2f2",
   "outputs": [
    {
     "name": "stdout",
     "output_type": "stream",
     "text": [
      "----------------------------------------\n",
      "How many elements are in the periodic tables?: \n",
      "A. 116\n",
      "B. 117\n",
      "C. 118\n",
      "D. 119\n",
      "CORRECT!\n",
      "----------------------------------------\n",
      "Which animal lays the largest eggs?: \n",
      "A. Whale\n",
      "B. Crocodile\n",
      "C. Elephant\n",
      "D. Ostrich\n",
      "CORRECT!\n",
      "----------------------------------------\n",
      "What is the most abundant gas in Earth's atmosphere?: \n",
      "A. Nitrogen\n",
      "B. Oxygen\n",
      "C. Carbon-Dioxide\n",
      "D. Hydrogen\n",
      "INCORRECT!\n",
      "A is the correct answer\n",
      "----------------------------------------\n",
      "How many bones are in the human body?: \n",
      "A. 206\n",
      "B. 207\n",
      "C. 208\n",
      "D. 209\n",
      "CORRECT!\n",
      "----------------------------------------\n",
      "Which planet in the solar system is the hottest?:\n",
      "A. Mercury\n",
      "B. Venus\n",
      "C. Earth\n",
      "D. Mars\n",
      "CORRECT!\n",
      "========================================\n",
      "                 RESULT                 \n",
      "========================================\n",
      "Answers:  C D A A B \n",
      "Guesses: C D C A B \n",
      "You total score is 80%\n"
     ]
    }
   ],
   "execution_count": 18
  },
  {
   "metadata": {},
   "cell_type": "markdown",
   "source": "# Exercise 9: Concession stand program",
   "id": "a6462001f674185a"
  },
  {
   "metadata": {
    "ExecuteTime": {
     "end_time": "2025-06-25T15:29:17.760548Z",
     "start_time": "2025-06-25T15:29:06.564295Z"
    }
   },
   "cell_type": "code",
   "source": [
    "menus = {\n",
    "    \"Pizza\": 3.00,\n",
    "    \"Nachos\": 4.50,\n",
    "    \"Popcorn\": 6.00,\n",
    "    \"Fries\": 2.50,\n",
    "    \"Chips\": 1.00,\n",
    "    \"Pretzel\": 3.50,\n",
    "    \"Soda\": 3.00,\n",
    "    \"Lemonade\": 4.25\n",
    "}\n",
    "\n",
    "cart = []\n",
    "total = 0\n",
    "\n",
    "print(\"---------- MENU ----------\")\n",
    "for key, value in menus.items():\n",
    "    print(f\"{key:10}: ${value:.2f}\")\n",
    "\n",
    "while True:\n",
    "    food = input(\"Select an item (q to quit): \")\n",
    "    if food.lower() == \"q\":\n",
    "        break\n",
    "    if menus.get(food) is not None:\n",
    "        cart.append(food)\n",
    "\n",
    "print(\"---------- YOUR CART ----------\")\n",
    "for food in cart:\n",
    "    total += menus.get(food)\n",
    "    print(food, end=\" \")\n",
    "\n",
    "print()\n",
    "print(f\"Total is ${total:.2f}\")"
   ],
   "id": "1eed37adc519eab0",
   "outputs": [
    {
     "name": "stdout",
     "output_type": "stream",
     "text": [
      "---------- MENU ----------\n",
      "Pizza     : $3.00\n",
      "Nachos    : $4.50\n",
      "Popcorn   : $6.00\n",
      "Fries     : $2.50\n",
      "Chips     : $1.00\n",
      "Pretzel   : $3.50\n",
      "Soda      : $3.00\n",
      "Lemonade  : $4.25\n",
      "-------------------------\n",
      "---------- YOUR CART ----------\n",
      "Soda Pizza \n",
      "Total is $6.00\n"
     ]
    }
   ],
   "execution_count": 26
  }
 ],
 "metadata": {
  "kernelspec": {
   "display_name": "Python 3",
   "language": "python",
   "name": "python3"
  },
  "language_info": {
   "codemirror_mode": {
    "name": "ipython",
    "version": 3
   },
   "file_extension": ".py",
   "mimetype": "text/x-python",
   "name": "python",
   "nbconvert_exporter": "python",
   "pygments_lexer": "ipython3",
   "version": "3.13.4"
  }
 },
 "nbformat": 4,
 "nbformat_minor": 5
}
