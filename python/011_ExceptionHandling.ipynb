{
 "cells": [
  {
   "metadata": {},
   "cell_type": "markdown",
   "source": "# Exception Handling",
   "id": "e1d26b27631e4941"
  },
  {
   "cell_type": "code",
   "id": "initial_id",
   "metadata": {
    "collapsed": true,
    "ExecuteTime": {
     "end_time": "2025-07-04T17:09:59.570004Z",
     "start_time": "2025-07-04T17:09:54.467415Z"
    }
   },
   "source": [
    "try:\n",
    "    number = int(input(\"Enter a number: \"))\n",
    "    print(1/ number)\n",
    "except ZeroDivisionError:\n",
    "    print(\"You can't divide by zero\")\n",
    "except ValueError:\n",
    "    print(\"Enter only numbers please!\")\n",
    "except Exception:\n",
    "    print(\"Something went wrong\")\n",
    "finally:\n",
    "    print(\"Do some cleanup here\")"
   ],
   "outputs": [
    {
     "name": "stdout",
     "output_type": "stream",
     "text": [
      "Enter only numbers please!\n",
      "Do some cleanup here\n"
     ]
    }
   ],
   "execution_count": 4
  }
 ],
 "metadata": {
  "kernelspec": {
   "display_name": "Python 3",
   "language": "python",
   "name": "python3"
  },
  "language_info": {
   "codemirror_mode": {
    "name": "ipython",
    "version": 2
   },
   "file_extension": ".py",
   "mimetype": "text/x-python",
   "name": "python",
   "nbconvert_exporter": "python",
   "pygments_lexer": "ipython2",
   "version": "2.7.6"
  }
 },
 "nbformat": 4,
 "nbformat_minor": 5
}
