{
 "cells": [
  {
   "metadata": {},
   "cell_type": "markdown",
   "source": [
    "# Collections\n",
    "## List\n",
    "Ordered and changeable, duplicates is OK"
   ],
   "id": "394d070505e3e35"
  },
  {
   "cell_type": "code",
   "id": "initial_id",
   "metadata": {
    "collapsed": true,
    "ExecuteTime": {
     "end_time": "2025-06-23T15:16:03.007288Z",
     "start_time": "2025-06-23T15:16:03.001522Z"
    }
   },
   "source": [
    "fruits = [\"apple\", \"orange\", \"strawberry\", \"banana\", \"coconut\"]\n",
    "\n",
    "print(fruits)\n",
    "fruits.append(\"avocado\")\n",
    "print(fruits[0])\n",
    "print(fruits[-1])\n",
    "print(fruits[0:3])\n",
    "print(fruits[::2])\n",
    "\n",
    "fruits.sort()\n",
    "print(fruits)"
   ],
   "outputs": [
    {
     "name": "stdout",
     "output_type": "stream",
     "text": [
      "['apple', 'orange', 'strawberry', 'banana', 'coconut']\n",
      "apple\n",
      "avocado\n",
      "['apple', 'orange', 'strawberry']\n",
      "['apple', 'strawberry', 'coconut']\n",
      "['apple', 'avocado', 'banana', 'coconut', 'orange', 'strawberry']\n"
     ]
    }
   ],
   "execution_count": 12
  },
  {
   "metadata": {},
   "cell_type": "markdown",
   "source": [
    "## Set\n",
    "Unordered and immutable, but Add/Remove OK, NO duplicates"
   ],
   "id": "efb9a79e862fbaca"
  },
  {
   "metadata": {
    "ExecuteTime": {
     "end_time": "2025-06-23T15:16:06.051843Z",
     "start_time": "2025-06-23T15:16:06.047107Z"
    }
   },
   "cell_type": "code",
   "source": [
    "fruits = {\"apple\", \"orange\", \"strawberry\", \"banana\", \"coconut\"}\n",
    "fruits.add('strawberry')\n",
    "\n",
    "print(fruits)\n",
    "\n",
    "fruits.add(\"pineapple\")\n",
    "print(fruits)"
   ],
   "id": "6dd738a9b9abbf22",
   "outputs": [
    {
     "name": "stdout",
     "output_type": "stream",
     "text": [
      "{'strawberry', 'apple', 'banana', 'orange', 'coconut'}\n",
      "{'strawberry', 'apple', 'banana', 'orange', 'pineapple', 'coconut'}\n"
     ]
    }
   ],
   "execution_count": 13
  },
  {
   "metadata": {},
   "cell_type": "markdown",
   "source": [
    "## Tuple\n",
    "Ordered and unchangeable, duplicates is OK, FASTER"
   ],
   "id": "5b8236f1794f3b96"
  },
  {
   "metadata": {
    "ExecuteTime": {
     "end_time": "2025-06-23T15:17:32.961389Z",
     "start_time": "2025-06-23T15:17:32.952662Z"
    }
   },
   "cell_type": "code",
   "source": [
    "fruits = (\"apple\", \"orange\", \"strawberry\", \"banana\", \"coconut\")\n",
    "fruits.index(\"apple\")"
   ],
   "id": "396b5987de757afc",
   "outputs": [
    {
     "data": {
      "text/plain": [
       "0"
      ]
     },
     "execution_count": 15,
     "metadata": {},
     "output_type": "execute_result"
    }
   ],
   "execution_count": 15
  }
 ],
 "metadata": {
  "kernelspec": {
   "display_name": "Python 3",
   "language": "python",
   "name": "python3"
  },
  "language_info": {
   "codemirror_mode": {
    "name": "ipython",
    "version": 2
   },
   "file_extension": ".py",
   "mimetype": "text/x-python",
   "name": "python",
   "nbconvert_exporter": "python",
   "pygments_lexer": "ipython2",
   "version": "2.7.6"
  }
 },
 "nbformat": 4,
 "nbformat_minor": 5
}
