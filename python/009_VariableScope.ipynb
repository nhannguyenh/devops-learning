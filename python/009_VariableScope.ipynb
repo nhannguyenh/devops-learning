{
 "cells": [
  {
   "metadata": {},
   "cell_type": "markdown",
   "source": [
    "# Scope\n",
    "Where a variable is visible and accessible<br>\n",
    "Scope resolution = Local -> Enclosed -> Global -> Built-in"
   ],
   "id": "f7f45447c2c6cc5b"
  },
  {
   "cell_type": "code",
   "id": "initial_id",
   "metadata": {
    "collapsed": true,
    "ExecuteTime": {
     "end_time": "2025-06-26T16:25:47.086516Z",
     "start_time": "2025-06-26T16:25:47.081777Z"
    }
   },
   "source": [
    "# Local\n",
    "def function1():\n",
    "    a = 1\n",
    "    print(a)\n",
    "\n",
    "def function2():\n",
    "    b = 2\n",
    "    print(b)\n",
    "\n",
    "function1()\n",
    "function2()"
   ],
   "outputs": [
    {
     "name": "stdout",
     "output_type": "stream",
     "text": [
      "1\n",
      "2\n"
     ]
    }
   ],
   "execution_count": 4
  },
  {
   "metadata": {
    "ExecuteTime": {
     "end_time": "2025-06-26T16:25:59.065640Z",
     "start_time": "2025-06-26T16:25:59.060224Z"
    }
   },
   "cell_type": "code",
   "source": [
    "# Enclosed\n",
    "def function1():\n",
    "    x = 1\n",
    "    def function2():\n",
    "        print(x)\n",
    "    function2()\n",
    "\n",
    "function1()"
   ],
   "id": "7fe9d6636a860a7",
   "outputs": [
    {
     "name": "stdout",
     "output_type": "stream",
     "text": [
      "1\n"
     ]
    }
   ],
   "execution_count": 6
  },
  {
   "metadata": {
    "ExecuteTime": {
     "end_time": "2025-06-26T16:27:15.920659Z",
     "start_time": "2025-06-26T16:27:15.913662Z"
    }
   },
   "cell_type": "code",
   "source": [
    "# Global\n",
    "x = 3\n",
    "def function1():\n",
    "    print(x)\n",
    "\n",
    "def function2():\n",
    "    print(x)\n",
    "\n",
    "function1()\n",
    "function2()"
   ],
   "id": "8f8f97d989580747",
   "outputs": [
    {
     "name": "stdout",
     "output_type": "stream",
     "text": [
      "3\n",
      "3\n"
     ]
    }
   ],
   "execution_count": 8
  },
  {
   "metadata": {
    "ExecuteTime": {
     "end_time": "2025-06-26T16:28:41.875734Z",
     "start_time": "2025-06-26T16:28:41.871908Z"
    }
   },
   "cell_type": "code",
   "source": [
    "# Built-in\n",
    "from math import e\n",
    "\n",
    "def function1():\n",
    "    print(e)\n",
    "\n",
    "function1()"
   ],
   "id": "386971cbe52b6ca7",
   "outputs": [
    {
     "name": "stdout",
     "output_type": "stream",
     "text": [
      "2.718281828459045\n"
     ]
    }
   ],
   "execution_count": 9
  }
 ],
 "metadata": {
  "kernelspec": {
   "display_name": "Python 3",
   "language": "python",
   "name": "python3"
  },
  "language_info": {
   "codemirror_mode": {
    "name": "ipython",
    "version": 2
   },
   "file_extension": ".py",
   "mimetype": "text/x-python",
   "name": "python",
   "nbconvert_exporter": "python",
   "pygments_lexer": "ipython2",
   "version": "2.7.6"
  }
 },
 "nbformat": 4,
 "nbformat_minor": 5
}
