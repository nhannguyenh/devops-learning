{
 "cells": [
  {
   "cell_type": "markdown",
   "id": "f7f45447c2c6cc5b",
   "metadata": {},
   "source": [
    "# Scope\n",
    "Where a variable is visible and accessible<br>\n",
    "Scope resolution = Local -> Enclosed -> Global -> Built-in"
   ]
  },
  {
   "cell_type": "code",
   "execution_count": 4,
   "id": "initial_id",
   "metadata": {
    "ExecuteTime": {
     "end_time": "2025-06-26T16:25:47.086516Z",
     "start_time": "2025-06-26T16:25:47.081777Z"
    },
    "collapsed": true
   },
   "outputs": [
    {
     "name": "stdout",
     "output_type": "stream",
     "text": [
      "1\n",
      "2\n"
     ]
    }
   ],
   "source": [
    "# Local\n",
    "def function1():\n",
    "    a = 1\n",
    "    print(a)\n",
    "\n",
    "def function2():\n",
    "    b = 2\n",
    "    print(b)\n",
    "\n",
    "function1()\n",
    "function2()"
   ]
  },
  {
   "cell_type": "code",
   "execution_count": 6,
   "id": "7fe9d6636a860a7",
   "metadata": {
    "ExecuteTime": {
     "end_time": "2025-06-26T16:25:59.065640Z",
     "start_time": "2025-06-26T16:25:59.060224Z"
    }
   },
   "outputs": [
    {
     "name": "stdout",
     "output_type": "stream",
     "text": [
      "1\n"
     ]
    }
   ],
   "source": [
    "# Enclosed\n",
    "def function1():\n",
    "    x = 1\n",
    "    def function2():\n",
    "        print(x)\n",
    "    function2()\n",
    "\n",
    "function1()"
   ]
  },
  {
   "cell_type": "code",
   "execution_count": 8,
   "id": "8f8f97d989580747",
   "metadata": {
    "ExecuteTime": {
     "end_time": "2025-06-26T16:27:15.920659Z",
     "start_time": "2025-06-26T16:27:15.913662Z"
    }
   },
   "outputs": [
    {
     "name": "stdout",
     "output_type": "stream",
     "text": [
      "3\n",
      "3\n"
     ]
    }
   ],
   "source": [
    "# Global\n",
    "x = 3\n",
    "def function1():\n",
    "    print(x)\n",
    "\n",
    "def function2():\n",
    "    print(x)\n",
    "\n",
    "function1()\n",
    "function2()"
   ]
  },
  {
   "cell_type": "code",
   "execution_count": 9,
   "id": "386971cbe52b6ca7",
   "metadata": {
    "ExecuteTime": {
     "end_time": "2025-06-26T16:28:41.875734Z",
     "start_time": "2025-06-26T16:28:41.871908Z"
    }
   },
   "outputs": [
    {
     "name": "stdout",
     "output_type": "stream",
     "text": [
      "2.718281828459045\n"
     ]
    }
   ],
   "source": [
    "# Built-in\n",
    "from math import e\n",
    "\n",
    "def function1():\n",
    "    print(e)\n",
    "\n",
    "function1()"
   ]
  }
 ],
 "metadata": {
  "kernelspec": {
   "display_name": "Python 3",
   "language": "python",
   "name": "python3"
  },
  "language_info": {
   "codemirror_mode": {
    "name": "ipython",
    "version": 2
   },
   "file_extension": ".py",
   "mimetype": "text/x-python",
   "name": "python",
   "nbconvert_exporter": "python",
   "pygments_lexer": "ipython2",
   "version": "2.7.6"
  }
 },
 "nbformat": 4,
 "nbformat_minor": 5
}
