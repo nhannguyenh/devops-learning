{
 "cells": [
  {
   "cell_type": "markdown",
   "id": "21719e10",
   "metadata": {},
   "source": [
    "# Operators\n",
    "## Arithmetic Operators"
   ]
  },
  {
   "cell_type": "code",
   "id": "ea2a4d9c",
   "metadata": {
    "ExecuteTime": {
     "end_time": "2025-06-23T13:58:19.985726Z",
     "start_time": "2025-06-23T13:58:09.098555Z"
    }
   },
   "source": [
    "import math\n",
    "\n",
    "a = float(input(\"Enter number A: \"))\n",
    "b = float(input(\"Enter number B: \"))\n",
    "\n",
    "c = math.sqrt(pow(a, 2) + pow(b, 2))\n",
    "print(round(c, 4))"
   ],
   "outputs": [
    {
     "name": "stdout",
     "output_type": "stream",
     "text": [
      "7.2111\n"
     ]
    }
   ],
   "execution_count": 6
  },
  {
   "cell_type": "code",
   "execution_count": 3,
   "id": "56c7eda5",
   "metadata": {},
   "outputs": [
    {
     "name": "stdout",
     "output_type": "stream",
     "text": [
      "A circle has radius is 2.4cm\n",
      "The circumference of this circle is 15.08cm\n",
      "The area of this circle is 18.1cm²\n"
     ]
    }
   ],
   "source": [
    "import math\n",
    "\n",
    "radius = float(input(\"Enter the radius of a circle: \"))\n",
    "\n",
    "circumference = 2 * math.pi * radius\n",
    "area = math.pi * pow(radius, 2)\n",
    "\n",
    "print(f\"A circle has radius is {radius}cm\")\n",
    "print(f\"The circumference of this circle is {round(circumference, 2)}cm\")\n",
    "print(f\"The area of this circle is {round(area, 2)}cm²\")"
   ]
  },
  {
   "metadata": {},
   "cell_type": "markdown",
   "source": [
    "## Logical Operators\n",
    "Used to combine conditional statements (and, or, not)"
   ],
   "id": "3c2618e72f048af9"
  },
  {
   "metadata": {
    "ExecuteTime": {
     "end_time": "2025-06-20T16:05:07.785049Z",
     "start_time": "2025-06-20T16:05:07.779523Z"
    }
   },
   "cell_type": "code",
   "source": [
    "temperature = 28\n",
    "isRaining = False\n",
    "isSunny = False\n",
    "\n",
    "if temperature > 35 or temperature < 0 or isRaining:\n",
    "    print(\"The outdoor event is cancelled\")\n",
    "else:\n",
    "    print(\"The outdoor event is still running\")\n",
    "\n",
    "if temperature >= 28 and isSunny:\n",
    "    print(\"It is HOT outside 🔥\")\n",
    "elif temperature >= 28 and (not isSunny):\n",
    "    print(\"It is CLOUDY ☁️\")"
   ],
   "id": "f183c85ce4d42752",
   "outputs": [
    {
     "name": "stdout",
     "output_type": "stream",
     "text": [
      "The outdoor event is still running\n",
      "It is CLOUDY ☁️\n"
     ]
    }
   ],
   "execution_count": 4
  },
  {
   "metadata": {
    "ExecuteTime": {
     "end_time": "2025-06-20T16:06:44.055871Z",
     "start_time": "2025-06-20T16:06:44.051549Z"
    }
   },
   "cell_type": "code",
   "source": [
    "# Conditional expression\n",
    "number = 5\n",
    "print(\"Positive\" if number > 0 else \"Negative\")"
   ],
   "id": "5e4bf711b394d620",
   "outputs": [
    {
     "name": "stdout",
     "output_type": "stream",
     "text": [
      "Positive\n"
     ]
    }
   ],
   "execution_count": 5
  }
 ],
 "metadata": {
  "kernelspec": {
   "display_name": "Python 3",
   "language": "python",
   "name": "python3"
  },
  "language_info": {
   "codemirror_mode": {
    "name": "ipython",
    "version": 3
   },
   "file_extension": ".py",
   "mimetype": "text/x-python",
   "name": "python",
   "nbconvert_exporter": "python",
   "pygments_lexer": "ipython3",
   "version": "3.13.4"
  }
 },
 "nbformat": 4,
 "nbformat_minor": 5
}
