{
 "cells": [
  {
   "cell_type": "markdown",
   "id": "21719e10",
   "metadata": {},
   "source": [
    "# Operators\n",
    "## Arithmetic Operators"
   ]
  },
  {
   "cell_type": "code",
   "execution_count": 5,
   "id": "ea2a4d9c",
   "metadata": {},
   "outputs": [
    {
     "name": "stdout",
     "output_type": "stream",
     "text": [
      "5.36\n"
     ]
    }
   ],
   "source": [
    "import math\n",
    "\n",
    "a = float(input(\"Enter number A: \"))\n",
    "b = float(input(\"Enter number B: \"))\n",
    "\n",
    "c = math.sqrt(pow(a, 2) + pow(b, 2))\n",
    "print(round(c, 4))"
   ]
  },
  {
   "cell_type": "code",
   "execution_count": 3,
   "id": "56c7eda5",
   "metadata": {},
   "outputs": [
    {
     "name": "stdout",
     "output_type": "stream",
     "text": [
      "A circle has radius is 2.4cm\n",
      "The circumference of this circle is 15.08cm\n",
      "The area of this circle is 18.1cm²\n"
     ]
    }
   ],
   "source": [
    "import math\n",
    "\n",
    "radius = float(input(\"Enter the radius of a circle: \"))\n",
    "\n",
    "circumference = 2 * math.pi * radius\n",
    "area = math.pi * pow(radius, 2)\n",
    "\n",
    "print(f\"A circle has radius is {radius}cm\")\n",
    "print(f\"The circumference of this circle is {round(circumference, 2)}cm\")\n",
    "print(f\"The area of this circle is {round(area, 2)}cm²\")"
   ]
  }
 ],
 "metadata": {
  "kernelspec": {
   "display_name": "Python 3",
   "language": "python",
   "name": "python3"
  },
  "language_info": {
   "codemirror_mode": {
    "name": "ipython",
    "version": 3
   },
   "file_extension": ".py",
   "mimetype": "text/x-python",
   "name": "python",
   "nbconvert_exporter": "python",
   "pygments_lexer": "ipython3",
   "version": "3.13.4"
  }
 },
 "nbformat": 4,
 "nbformat_minor": 5
}
