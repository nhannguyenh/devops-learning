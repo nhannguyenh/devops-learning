{
 "cells": [
  {
   "metadata": {},
   "cell_type": "markdown",
   "source": "# Object Oriented Programing",
   "id": "cc01c58fe9b77537"
  },
  {
   "cell_type": "code",
   "id": "initial_id",
   "metadata": {
    "collapsed": true,
    "ExecuteTime": {
     "end_time": "2025-06-30T17:09:45.325482Z",
     "start_time": "2025-06-30T17:09:45.319454Z"
    }
   },
   "source": [
    "class Car:\n",
    "    def __init__(self, model, year, color, for_sale):\n",
    "        self.model = model\n",
    "        self.year = year\n",
    "        self.color = color\n",
    "        self.for_sale = for_sale\n",
    "\n",
    "    def drive(self):\n",
    "        print(f\"You drive the {self.model}\")\n",
    "\n",
    "    def stop(self):\n",
    "        print(f\"You stop the {self.model}\")\n",
    "\n",
    "    def describe(self):\n",
    "        print(f\"The {self.model} model is {self.year} and has {self.color} color\")\n",
    "\n",
    "\n",
    "car1 = Car(\"Mustang\", 2024, \"Red\", False)\n",
    "\n",
    "print(car1.model)\n",
    "print(car1.year)\n",
    "print(car1.color)\n",
    "print(car1.for_sale)\n",
    "\n",
    "car1.drive()\n",
    "car1.stop()\n",
    "car1.describe()"
   ],
   "outputs": [
    {
     "name": "stdout",
     "output_type": "stream",
     "text": [
      "Mustang\n",
      "2024\n",
      "Red\n",
      "False\n",
      "You drive the Mustang\n",
      "You stop the Mustang\n",
      "The Mustang model is 2024 and has Red color\n"
     ]
    }
   ],
   "execution_count": 21
  },
  {
   "metadata": {},
   "cell_type": "markdown",
   "source": "## Class variable",
   "id": "8f17433cd007d40b"
  },
  {
   "metadata": {
    "ExecuteTime": {
     "end_time": "2025-07-01T13:04:50.747859Z",
     "start_time": "2025-07-01T13:04:50.732583Z"
    }
   },
   "cell_type": "code",
   "source": [
    "class Student:\n",
    "    # class variable\n",
    "    class_year = 2024\n",
    "\n",
    "    def __init__(self, name, age):\n",
    "        self.name = name\n",
    "        self.age = age\n",
    "\n",
    "student1 = Student(\"John\", 18)\n",
    "\n",
    "print(student1.name)\n",
    "print(student1.age)\n",
    "print(Student.class_year)"
   ],
   "id": "c61c01584c85374e",
   "outputs": [
    {
     "name": "stdout",
     "output_type": "stream",
     "text": [
      "John\n",
      "18\n",
      "2024\n"
     ]
    }
   ],
   "execution_count": 24
  },
  {
   "metadata": {},
   "cell_type": "markdown",
   "source": "## Inheritance",
   "id": "1ad65b185646c8d4"
  },
  {
   "metadata": {
    "ExecuteTime": {
     "end_time": "2025-07-01T13:49:35.406735Z",
     "start_time": "2025-07-01T13:49:35.397409Z"
    }
   },
   "cell_type": "code",
   "source": [
    "class Animal:\n",
    "    def __init__(self, name):\n",
    "        self.name = name\n",
    "        self.is_alive = True\n",
    "\n",
    "    def eat(self):\n",
    "        print(f\"{self.name} is eating.\")\n",
    "\n",
    "    def sleep(self):\n",
    "        print(f\"{self.name} is sleeping.\")\n",
    "\n",
    "class Dog(Animal):\n",
    "    def speak(self):\n",
    "        print(\"Woof\")\n",
    "\n",
    "class Cat(Animal):\n",
    "    def speak(self):\n",
    "        print(\"Meow\")\n",
    "\n",
    "class Mouse(Animal):\n",
    "    def speak(self):\n",
    "        print(\"Squeek\")\n",
    "\n",
    "dog = Dog(\"Scooby\")\n",
    "cat = Cat(\"Garfield\")\n",
    "mouse = Mouse(\"Mickey\")\n",
    "\n",
    "print(dog.name)\n",
    "print(dog.is_alive)\n",
    "dog.eat()\n",
    "dog.sleep()\n",
    "dog.speak()\n",
    "print()\n",
    "print(cat.name)\n",
    "print(cat.is_alive)\n",
    "cat.eat()\n",
    "cat.sleep()\n",
    "cat.speak()\n",
    "print()\n",
    "print(mouse.name)\n",
    "print(mouse.is_alive)\n",
    "mouse.eat()\n",
    "mouse.sleep()\n",
    "mouse.speak()"
   ],
   "id": "82f159e1c86f9c80",
   "outputs": [
    {
     "name": "stdout",
     "output_type": "stream",
     "text": [
      "Scooby\n",
      "True\n",
      "Scooby is eating.\n",
      "Scooby is sleeping.\n",
      "Woof\n",
      "\n",
      "Garfield\n",
      "True\n",
      "Garfield is eating.\n",
      "Garfield is sleeping.\n",
      "Meow\n",
      "\n",
      "Mickey\n",
      "True\n",
      "Mickey is eating.\n",
      "Mickey is sleeping.\n",
      "Squeek\n"
     ]
    }
   ],
   "execution_count": 30
  },
  {
   "metadata": {},
   "cell_type": "markdown",
   "source": "## Multiple inheritance",
   "id": "6b6a757243c93564"
  },
  {
   "metadata": {
    "ExecuteTime": {
     "end_time": "2025-07-01T14:05:08.504431Z",
     "start_time": "2025-07-01T14:05:08.497106Z"
    }
   },
   "cell_type": "code",
   "source": [
    "class Animal:\n",
    "    def __init__(self, name):\n",
    "        self.name = name\n",
    "\n",
    "    def eat(self):\n",
    "        print(f\"{self.name} is eating\")\n",
    "\n",
    "class Prey(Animal):\n",
    "    def flee(self):\n",
    "        print(f\"{self.name} is fleeing.\")\n",
    "\n",
    "class Predator(Animal):\n",
    "    def hunt(self):\n",
    "        print(f\"{self.name} is hunting.\")\n",
    "\n",
    "class Rabbit(Prey):\n",
    "    pass\n",
    "\n",
    "class Hawk(Predator):\n",
    "    pass\n",
    "\n",
    "class Fish(Prey, Predator):\n",
    "    pass\n",
    "\n",
    "rabbit = Rabbit(\"Bugs\")\n",
    "hawk = Hawk(\"Tony\")\n",
    "fish = Fish(\"Nemo\")\n",
    "\n",
    "rabbit.flee()\n",
    "rabbit.eat()\n",
    "\n",
    "hawk.hunt()\n",
    "hawk.eat()\n",
    "\n",
    "fish.flee()\n",
    "fish.hunt()\n",
    "fish.eat()"
   ],
   "id": "7e6dbce5390d0996",
   "outputs": [
    {
     "name": "stdout",
     "output_type": "stream",
     "text": [
      "Bugs is fleeing.\n",
      "Bugs is eating\n",
      "Tony is hunting.\n",
      "Tony is eating\n",
      "Nemo is fleeing.\n",
      "Nemo is hunting.\n",
      "Nemo is eating\n"
     ]
    }
   ],
   "execution_count": 35
  },
  {
   "metadata": {},
   "cell_type": "markdown",
   "source": "## super()",
   "id": "e7e97d549fbbb1e7"
  },
  {
   "metadata": {
    "ExecuteTime": {
     "end_time": "2025-07-01T14:36:20.721837Z",
     "start_time": "2025-07-01T14:36:20.713360Z"
    }
   },
   "cell_type": "code",
   "source": [
    "class Shape:\n",
    "    def __init__(self, name, color, is_filled):\n",
    "        self.name = name\n",
    "        self.color = color\n",
    "        self.is_filled = is_filled\n",
    "\n",
    "    def describe(self):\n",
    "        print(f\"It's {self.color} and {\"filled\" if self.is_filled else \"not filled\"}.\")\n",
    "\n",
    "class Circle(Shape):\n",
    "    def __init__(self, name, color, is_filled, radius):\n",
    "        super().__init__(name, color, is_filled)\n",
    "        self.radius = radius\n",
    "\n",
    "    def describe(self):\n",
    "        super().describe()\n",
    "        print(f\"It is a {self.name} with an area of {3.14 * self.radius ** 2}\")\n",
    "\n",
    "class Square(Shape):\n",
    "    def __init__(self,name, color, is_filled, width):\n",
    "        super().__init__(name, color, is_filled)\n",
    "        self.width = width\n",
    "\n",
    "    def describe(self):\n",
    "        super().describe()\n",
    "        print(f\"It is a {self.name} with an area of {self.width ** 2}\")\n",
    "\n",
    "circle = Circle(name=\"circle\",color=\"white\", is_filled=True, radius=10)\n",
    "square = Square(name=\"square\",color=\"blue\", is_filled=False, width=15)\n",
    "\n",
    "circle.describe()\n",
    "square.describe()"
   ],
   "id": "dd28558a9c891851",
   "outputs": [
    {
     "name": "stdout",
     "output_type": "stream",
     "text": [
      "It's white and filled.\n",
      "It is a circle with an area of 314.0\n",
      "It's blue and not filled.\n",
      "It is a square with an area of 225\n"
     ]
    }
   ],
   "execution_count": 51
  },
  {
   "metadata": {},
   "cell_type": "code",
   "outputs": [],
   "execution_count": null,
   "source": "",
   "id": "7f3622153b3bc37a"
  }
 ],
 "metadata": {
  "kernelspec": {
   "display_name": "Python 3",
   "language": "python",
   "name": "python3"
  },
  "language_info": {
   "codemirror_mode": {
    "name": "ipython",
    "version": 2
   },
   "file_extension": ".py",
   "mimetype": "text/x-python",
   "name": "python",
   "nbconvert_exporter": "python",
   "pygments_lexer": "ipython2",
   "version": "2.7.6"
  }
 },
 "nbformat": 4,
 "nbformat_minor": 5
}
