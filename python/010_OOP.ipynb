{
 "cells": [
  {
   "metadata": {},
   "cell_type": "markdown",
   "source": "# Object Oriented Programing",
   "id": "cc01c58fe9b77537"
  },
  {
   "cell_type": "code",
   "id": "initial_id",
   "metadata": {
    "collapsed": true,
    "ExecuteTime": {
     "end_time": "2025-06-30T17:09:45.325482Z",
     "start_time": "2025-06-30T17:09:45.319454Z"
    }
   },
   "source": [
    "class Car:\n",
    "    def __init__(self, model, year, color, for_sale):\n",
    "        self.model = model\n",
    "        self.year = year\n",
    "        self.color = color\n",
    "        self.for_sale = for_sale\n",
    "\n",
    "    def drive(self):\n",
    "        print(f\"You drive the {self.model}\")\n",
    "\n",
    "    def stop(self):\n",
    "        print(f\"You stop the {self.model}\")\n",
    "\n",
    "    def describe(self):\n",
    "        print(f\"The {self.model} model is {self.year} and has {self.color} color\")\n",
    "\n",
    "\n",
    "car1 = Car(\"Mustang\", 2024, \"Red\", False)\n",
    "\n",
    "print(car1.model)\n",
    "print(car1.year)\n",
    "print(car1.color)\n",
    "print(car1.for_sale)\n",
    "\n",
    "car1.drive()\n",
    "car1.stop()\n",
    "car1.describe()"
   ],
   "outputs": [
    {
     "name": "stdout",
     "output_type": "stream",
     "text": [
      "Mustang\n",
      "2024\n",
      "Red\n",
      "False\n",
      "You drive the Mustang\n",
      "You stop the Mustang\n",
      "The Mustang model is 2024 and has Red color\n"
     ]
    }
   ],
   "execution_count": 21
  },
  {
   "metadata": {},
   "cell_type": "markdown",
   "source": "## Class variable",
   "id": "8f17433cd007d40b"
  },
  {
   "metadata": {
    "ExecuteTime": {
     "end_time": "2025-07-01T13:04:50.747859Z",
     "start_time": "2025-07-01T13:04:50.732583Z"
    }
   },
   "cell_type": "code",
   "source": [
    "class Student:\n",
    "    # class variable\n",
    "    class_year = 2024\n",
    "\n",
    "    def __init__(self, name, age):\n",
    "        self.name = name\n",
    "        self.age = age\n",
    "\n",
    "student1 = Student(\"John\", 18)\n",
    "\n",
    "print(student1.name)\n",
    "print(student1.age)\n",
    "print(Student.class_year)"
   ],
   "id": "c61c01584c85374e",
   "outputs": [
    {
     "name": "stdout",
     "output_type": "stream",
     "text": [
      "John\n",
      "18\n",
      "2024\n"
     ]
    }
   ],
   "execution_count": 24
  },
  {
   "metadata": {},
   "cell_type": "markdown",
   "source": "## Inheritance",
   "id": "1ad65b185646c8d4"
  },
  {
   "metadata": {
    "ExecuteTime": {
     "end_time": "2025-07-01T13:49:35.406735Z",
     "start_time": "2025-07-01T13:49:35.397409Z"
    }
   },
   "cell_type": "code",
   "source": [
    "class Animal:\n",
    "    def __init__(self, name):\n",
    "        self.name = name\n",
    "        self.is_alive = True\n",
    "\n",
    "    def eat(self):\n",
    "        print(f\"{self.name} is eating.\")\n",
    "\n",
    "    def sleep(self):\n",
    "        print(f\"{self.name} is sleeping.\")\n",
    "\n",
    "class Dog(Animal):\n",
    "    def speak(self):\n",
    "        print(\"Woof\")\n",
    "\n",
    "class Cat(Animal):\n",
    "    def speak(self):\n",
    "        print(\"Meow\")\n",
    "\n",
    "class Mouse(Animal):\n",
    "    def speak(self):\n",
    "        print(\"Squeek\")\n",
    "\n",
    "dog = Dog(\"Scooby\")\n",
    "cat = Cat(\"Garfield\")\n",
    "mouse = Mouse(\"Mickey\")\n",
    "\n",
    "print(dog.name)\n",
    "print(dog.is_alive)\n",
    "dog.eat()\n",
    "dog.sleep()\n",
    "dog.speak()\n",
    "print()\n",
    "print(cat.name)\n",
    "print(cat.is_alive)\n",
    "cat.eat()\n",
    "cat.sleep()\n",
    "cat.speak()\n",
    "print()\n",
    "print(mouse.name)\n",
    "print(mouse.is_alive)\n",
    "mouse.eat()\n",
    "mouse.sleep()\n",
    "mouse.speak()"
   ],
   "id": "82f159e1c86f9c80",
   "outputs": [
    {
     "name": "stdout",
     "output_type": "stream",
     "text": [
      "Scooby\n",
      "True\n",
      "Scooby is eating.\n",
      "Scooby is sleeping.\n",
      "Woof\n",
      "\n",
      "Garfield\n",
      "True\n",
      "Garfield is eating.\n",
      "Garfield is sleeping.\n",
      "Meow\n",
      "\n",
      "Mickey\n",
      "True\n",
      "Mickey is eating.\n",
      "Mickey is sleeping.\n",
      "Squeek\n"
     ]
    }
   ],
   "execution_count": 30
  },
  {
   "metadata": {},
   "cell_type": "code",
   "outputs": [],
   "execution_count": null,
   "source": "",
   "id": "7e6dbce5390d0996"
  }
 ],
 "metadata": {
  "kernelspec": {
   "display_name": "Python 3",
   "language": "python",
   "name": "python3"
  },
  "language_info": {
   "codemirror_mode": {
    "name": "ipython",
    "version": 2
   },
   "file_extension": ".py",
   "mimetype": "text/x-python",
   "name": "python",
   "nbconvert_exporter": "python",
   "pygments_lexer": "ipython2",
   "version": "2.7.6"
  }
 },
 "nbformat": 4,
 "nbformat_minor": 5
}
