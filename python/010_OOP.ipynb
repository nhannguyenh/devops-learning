{
 "cells": [
  {
   "metadata": {},
   "cell_type": "markdown",
   "source": "# Object Oriented Programing",
   "id": "cc01c58fe9b77537"
  },
  {
   "cell_type": "code",
   "id": "initial_id",
   "metadata": {
    "collapsed": true,
    "ExecuteTime": {
     "end_time": "2025-06-30T17:09:45.325482Z",
     "start_time": "2025-06-30T17:09:45.319454Z"
    }
   },
   "source": [
    "class Car:\n",
    "    def __init__(self, model, year, color, for_sale):\n",
    "        self.model = model\n",
    "        self.year = year\n",
    "        self.color = color\n",
    "        self.for_sale = for_sale\n",
    "\n",
    "    def drive(self):\n",
    "        print(f\"You drive the {self.model}\")\n",
    "\n",
    "    def stop(self):\n",
    "        print(f\"You stop the {self.model}\")\n",
    "\n",
    "    def describe(self):\n",
    "        print(f\"The {self.model} model is {self.year} and has {self.color} color\")\n",
    "\n",
    "\n",
    "car1 = Car(\"Mustang\", 2024, \"Red\", False)\n",
    "\n",
    "print(car1.model)\n",
    "print(car1.year)\n",
    "print(car1.color)\n",
    "print(car1.for_sale)\n",
    "\n",
    "car1.drive()\n",
    "car1.stop()\n",
    "car1.describe()"
   ],
   "outputs": [
    {
     "name": "stdout",
     "output_type": "stream",
     "text": [
      "Mustang\n",
      "2024\n",
      "Red\n",
      "False\n",
      "You drive the Mustang\n",
      "You stop the Mustang\n",
      "The Mustang model is 2024 and has Red color\n"
     ]
    }
   ],
   "execution_count": 21
  },
  {
   "metadata": {},
   "cell_type": "code",
   "source": "",
   "id": "c61c01584c85374e",
   "outputs": [],
   "execution_count": null
  }
 ],
 "metadata": {
  "kernelspec": {
   "display_name": "Python 3",
   "language": "python",
   "name": "python3"
  },
  "language_info": {
   "codemirror_mode": {
    "name": "ipython",
    "version": 2
   },
   "file_extension": ".py",
   "mimetype": "text/x-python",
   "name": "python",
   "nbconvert_exporter": "python",
   "pygments_lexer": "ipython2",
   "version": "2.7.6"
  }
 },
 "nbformat": 4,
 "nbformat_minor": 5
}
