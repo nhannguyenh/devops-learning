{
 "cells": [
  {
   "cell_type": "markdown",
   "id": "56be4f3d",
   "metadata": {},
   "source": [
    "# Conditions"
   ]
  },
  {
   "cell_type": "code",
   "execution_count": 5,
   "id": "5cac0fe5",
   "metadata": {},
   "outputs": [
    {
     "name": "stdout",
     "output_type": "stream",
     "text": [
      "You have 2 children\n"
     ]
    }
   ],
   "source": [
    "from unittest import case\n",
    "\n",
    "childrenNumber = 2\n",
    "\n",
    "if childrenNumber == 0:\n",
    "    print(\"You don't have any child\")\n",
    "elif childrenNumber == 1:\n",
    "    print(\"You only have 1 child\")\n",
    "else:\n",
    "    print(f\"You have {childrenNumber} children\")"
   ]
  },
  {
   "metadata": {},
   "cell_type": "markdown",
   "source": "# Match-case statements",
   "id": "defc63fdab456e16"
  },
  {
   "metadata": {
    "ExecuteTime": {
     "end_time": "2025-06-26T15:56:48.082173Z",
     "start_time": "2025-06-26T15:56:48.073415Z"
    }
   },
   "cell_type": "code",
   "source": [
    "def dayOfWeek(day):\n",
    "    match day:\n",
    "        case 1:\n",
    "            return \"Monday\"\n",
    "        case 2:\n",
    "            return \"Tuesday\"\n",
    "        case 3:\n",
    "            return \"Wednesday\"\n",
    "        case 4:\n",
    "            return \"Thursday\"\n",
    "        case 5:\n",
    "            return \"Friday\"\n",
    "        case 6:\n",
    "            return \"Saturday\"\n",
    "        case 7:\n",
    "            return \"Sunday\"\n",
    "        case _:\n",
    "            return \"Not valid day\"\n",
    "print(dayOfWeek(2))"
   ],
   "id": "bc38d75d547fe07f",
   "outputs": [
    {
     "name": "stdout",
     "output_type": "stream",
     "text": [
      "Tuesday\n"
     ]
    }
   ],
   "execution_count": 1
  },
  {
   "metadata": {
    "ExecuteTime": {
     "end_time": "2025-06-26T16:00:48.802371Z",
     "start_time": "2025-06-26T16:00:48.797090Z"
    }
   },
   "cell_type": "code",
   "source": [
    "def isWeekend(day):\n",
    "    match day:\n",
    "        case \"Saturday\" | \"Sunday\":\n",
    "            return True\n",
    "        case \"Monday\" | \"Tuesday\" | \"Wednesday\" | \"Thursday\" | \"Friday\":\n",
    "            return False\n",
    "        case _:\n",
    "            return False\n",
    "print(isWeekend(\"Sunday\"))"
   ],
   "id": "5616669ba726024b",
   "outputs": [
    {
     "name": "stdout",
     "output_type": "stream",
     "text": [
      "True\n"
     ]
    }
   ],
   "execution_count": 2
  }
 ],
 "metadata": {
  "kernelspec": {
   "display_name": "Python 3",
   "language": "python",
   "name": "python3"
  },
  "language_info": {
   "codemirror_mode": {
    "name": "ipython",
    "version": 3
   },
   "file_extension": ".py",
   "mimetype": "text/x-python",
   "name": "python",
   "nbconvert_exporter": "python",
   "pygments_lexer": "ipython3",
   "version": "3.13.4"
  }
 },
 "nbformat": 4,
 "nbformat_minor": 5
}
