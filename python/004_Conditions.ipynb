{
 "cells": [
  {
   "cell_type": "markdown",
   "id": "56be4f3d",
   "metadata": {},
   "source": [
    "# Conditions"
   ]
  },
  {
   "cell_type": "code",
   "execution_count": 5,
   "id": "5cac0fe5",
   "metadata": {},
   "outputs": [
    {
     "name": "stdout",
     "output_type": "stream",
     "text": [
      "You have 2 children\n"
     ]
    }
   ],
   "source": [
    "childrenNumber = 2\n",
    "\n",
    "if childrenNumber == 0:\n",
    "    print(\"You don't have any child\")\n",
    "elif childrenNumber == 1:\n",
    "    print(\"You only have 1 child\")\n",
    "else:\n",
    "    print(f\"You have {childrenNumber} children\")"
   ]
  }
 ],
 "metadata": {
  "kernelspec": {
   "display_name": "Python 3",
   "language": "python",
   "name": "python3"
  },
  "language_info": {
   "codemirror_mode": {
    "name": "ipython",
    "version": 3
   },
   "file_extension": ".py",
   "mimetype": "text/x-python",
   "name": "python",
   "nbconvert_exporter": "python",
   "pygments_lexer": "ipython3",
   "version": "3.13.4"
  }
 },
 "nbformat": 4,
 "nbformat_minor": 5
}
