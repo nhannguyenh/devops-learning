{
 "cells": [
  {
   "cell_type": "markdown",
   "id": "cf0a8ecc",
   "metadata": {},
   "source": [
    "# User Input\n",
    "A function that prompts the user to enter data, returns the entered data as a string value"
   ]
  },
  {
   "cell_type": "code",
   "execution_count": 5,
   "id": "587ff349",
   "metadata": {},
   "outputs": [
    {
     "name": "stdout",
     "output_type": "stream",
     "text": [
      "Hello Jackie\n",
      "You are 33 years old\n"
     ]
    }
   ],
   "source": [
    "name = input(\"What is your name?\")\n",
    "age = input(\"How old are you?\")\n",
    "\n",
    "print(f\"Hello {name}\")\n",
    "print(f\"You are {age} years old\")"
   ]
  },
  {
   "cell_type": "markdown",
   "id": "dba6d43b",
   "metadata": {},
   "source": [
    "# Exercise 1: Rectangle Area Calc"
   ]
  },
  {
   "cell_type": "code",
   "execution_count": 2,
   "id": "29b81148",
   "metadata": {},
   "outputs": [
    {
     "name": "stdout",
     "output_type": "stream",
     "text": [
      "The area is 26.46cm²\n"
     ]
    }
   ],
   "source": [
    "length = float(input(\"Enter the length of the rectangle: \"))\n",
    "width = float(input(\"Enter the width of the rectangle: \"))\n",
    "\n",
    "area = length * width\n",
    "\n",
    "# Control + Command + Space to use the superscript in Mac\n",
    "print(f\"The area is {area}cm²\")"
   ]
  },
  {
   "cell_type": "markdown",
   "id": "aeddcd9a",
   "metadata": {},
   "source": [
    "# Exercise 2: Shopping Cart Program"
   ]
  },
  {
   "cell_type": "code",
   "execution_count": 6,
   "id": "230d18ff",
   "metadata": {},
   "outputs": [
    {
     "name": "stdout",
     "output_type": "stream",
     "text": [
      "You have bought 5 books\n",
      "Your total is $7.5\n"
     ]
    }
   ],
   "source": [
    "item = input(\"What item would you like to buy?\")\n",
    "price = float(input(\"What is the price?\"))\n",
    "quatity = int(input(\"How many would you like?\"))\n",
    "\n",
    "total = price + quatity\n",
    "print(f\"You have bought {quatity} {item}s\")\n",
    "print(f\"Your total is ${total}\")"
   ]
  }
 ],
 "metadata": {
  "kernelspec": {
   "display_name": "Python 3",
   "language": "python",
   "name": "python3"
  },
  "language_info": {
   "codemirror_mode": {
    "name": "ipython",
    "version": 3
   },
   "file_extension": ".py",
   "mimetype": "text/x-python",
   "name": "python",
   "nbconvert_exporter": "python",
   "pygments_lexer": "ipython3",
   "version": "3.13.4"
  }
 },
 "nbformat": 4,
 "nbformat_minor": 5
}
