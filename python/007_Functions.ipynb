{
 "cells": [
  {
   "cell_type": "markdown",
   "id": "b440f1078f919f9c",
   "metadata": {},
   "source": [
    "# Function\n",
    "A block of reusable code, place () after the function name to invoke it"
   ]
  },
  {
   "cell_type": "code",
   "execution_count": 5,
   "id": "initial_id",
   "metadata": {
    "ExecuteTime": {
     "end_time": "2025-06-25T16:25:57.205102Z",
     "start_time": "2025-06-25T16:25:57.200272Z"
    },
    "collapsed": true
   },
   "outputs": [
    {
     "name": "stdout",
     "output_type": "stream",
     "text": [
      "Hello Jackie\n",
      "You are 35 years old\n"
     ]
    }
   ],
   "source": [
    "def greeting(name, age):\n",
    "    print(f\"Hello {name}\")\n",
    "    print(f\"You are {age} years old\")\n",
    "\n",
    "greeting(\"Jackie\", 35)"
   ]
  },
  {
   "cell_type": "code",
   "execution_count": 6,
   "id": "5c6c4e4f93a5dc27",
   "metadata": {
    "ExecuteTime": {
     "end_time": "2025-06-25T16:28:56.246077Z",
     "start_time": "2025-06-25T16:28:56.241800Z"
    }
   },
   "outputs": [
    {
     "name": "stdout",
     "output_type": "stream",
     "text": [
      "7\n"
     ]
    }
   ],
   "source": [
    "def add(num1, num2):\n",
    "    return num1 + num2\n",
    "\n",
    "print(add(3, 4))"
   ]
  },
  {
   "cell_type": "markdown",
   "id": "34c4255a",
   "metadata": {},
   "source": [
    "## default arguments"
   ]
  },
  {
   "cell_type": "code",
   "execution_count": 5,
   "id": "c7462dce",
   "metadata": {},
   "outputs": [
    {
     "name": "stdout",
     "output_type": "stream",
     "text": [
      "$525.0\n",
      "$472.5\n",
      "$450.0\n"
     ]
    }
   ],
   "source": [
    "def netPrice(listPrice, discount = 0, tax = 0.05):\n",
    "    return listPrice * (1 - discount) * (1 + tax)\n",
    "\n",
    "print(f\"${netPrice(500)}\")\n",
    "print(f\"${netPrice(500, 0.1)}\")\n",
    "print(f\"${netPrice(500, 0.1, 0)}\")"
   ]
  },
  {
   "cell_type": "markdown",
   "id": "5eb92169",
   "metadata": {},
   "source": [
    "## keyword arguments"
   ]
  },
  {
   "cell_type": "code",
   "execution_count": 7,
   "id": "c5db9196",
   "metadata": {},
   "outputs": [
    {
     "name": "stdout",
     "output_type": "stream",
     "text": [
      "Hello Mr.Jackie Nguyen\n",
      "Hello Mr.Jackie Nguyen\n"
     ]
    }
   ],
   "source": [
    "def hello(greeting, title, firstName, lastName):\n",
    "    print(f\"{greeting} {title}{firstName} {lastName}\")\n",
    "\n",
    "hello(\"Hello\", \"Mr.\", \"Jackie\", \"Nguyen\")\n",
    "hello(\"Hello\", title = \"Mr.\", firstName = \"Jackie\", lastName = \"Nguyen\")"
   ]
  },
  {
   "cell_type": "markdown",
   "id": "4ce4f67c",
   "metadata": {},
   "source": [
    "## *args & **kwargs\n",
    "*args    = allows you to pass multiple non-key arguments\n",
    "**kwargs = allows you to pass multiple keyword arguments"
   ]
  },
  {
   "cell_type": "code",
   "execution_count": 10,
   "id": "e2f3e10d",
   "metadata": {},
   "outputs": [
    {
     "name": "stdout",
     "output_type": "stream",
     "text": [
      "6\n"
     ]
    }
   ],
   "source": [
    "def add(*nums):\n",
    "    total = 0\n",
    "    for num in nums:\n",
    "        total += num\n",
    "    return total\n",
    "\n",
    "print(add(1, 2, 3))"
   ]
  },
  {
   "cell_type": "code",
   "execution_count": 19,
   "id": "5271a2cb",
   "metadata": {},
   "outputs": [
    {
     "name": "stdout",
     "output_type": "stream",
     "text": [
      "street : Cong Hoa\n",
      "city   : Ho Chi Minh\n",
      "zipCode: 700000\n"
     ]
    }
   ],
   "source": [
    "def printAddress(**kwargs):\n",
    "    for key, value in kwargs.items():\n",
    "        print(f\"{key:7}: {value}\")\n",
    "\n",
    "printAddress(street = \"Cong Hoa\", city = \"Ho Chi Minh\", zipCode = \"700000\")"
   ]
  },
  {
   "cell_type": "code",
   "execution_count": 21,
   "id": "f46bb3cc",
   "metadata": {},
   "outputs": [
    {
     "name": "stdout",
     "output_type": "stream",
     "text": [
      "Mr. Jackie \n",
      "Cong Hoa St. Ho Chi Minh "
     ]
    }
   ],
   "source": [
    "def shippingLable(*args, **kwargs):\n",
    "    for arg in args:\n",
    "        print(arg, end = \" \")\n",
    "    print()\n",
    "    for value in kwargs.values():\n",
    "        print(value, end=\" \")\n",
    "\n",
    "shippingLable(\"Mr.\", \"Jackie\",\n",
    "              street = \"Cong Hoa St.\",\n",
    "              city = \"Ho Chi Minh\")"
   ]
  }
 ],
 "metadata": {
  "kernelspec": {
   "display_name": "Python 3",
   "language": "python",
   "name": "python3"
  },
  "language_info": {
   "codemirror_mode": {
    "name": "ipython",
    "version": 3
   },
   "file_extension": ".py",
   "mimetype": "text/x-python",
   "name": "python",
   "nbconvert_exporter": "python",
   "pygments_lexer": "ipython3",
   "version": "3.13.4"
  }
 },
 "nbformat": 4,
 "nbformat_minor": 5
}
