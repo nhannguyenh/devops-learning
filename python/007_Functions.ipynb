{
 "cells": [
  {
   "cell_type": "markdown",
   "id": "b440f1078f919f9c",
   "metadata": {},
   "source": [
    "# Function\n",
    "A block of reusable code, place () after the function name to invoke it"
   ]
  },
  {
   "cell_type": "code",
   "execution_count": 5,
   "id": "initial_id",
   "metadata": {
    "ExecuteTime": {
     "end_time": "2025-06-25T16:25:57.205102Z",
     "start_time": "2025-06-25T16:25:57.200272Z"
    },
    "collapsed": true
   },
   "outputs": [
    {
     "name": "stdout",
     "output_type": "stream",
     "text": [
      "Hello Jackie\n",
      "You are 35 years old\n"
     ]
    }
   ],
   "source": [
    "def greeting(name, age):\n",
    "    print(f\"Hello {name}\")\n",
    "    print(f\"You are {age} years old\")\n",
    "\n",
    "greeting(\"Jackie\", 35)"
   ]
  },
  {
   "cell_type": "code",
   "execution_count": 6,
   "id": "5c6c4e4f93a5dc27",
   "metadata": {
    "ExecuteTime": {
     "end_time": "2025-06-25T16:28:56.246077Z",
     "start_time": "2025-06-25T16:28:56.241800Z"
    }
   },
   "outputs": [
    {
     "name": "stdout",
     "output_type": "stream",
     "text": [
      "7\n"
     ]
    }
   ],
   "source": [
    "def add(num1, num2):\n",
    "    return num1 + num2\n",
    "\n",
    "print(add(3, 4))"
   ]
  },
  {
   "cell_type": "markdown",
   "id": "34c4255a",
   "metadata": {},
   "source": [
    "## default arguments"
   ]
  },
  {
   "cell_type": "code",
   "execution_count": 5,
   "id": "c7462dce",
   "metadata": {},
   "outputs": [
    {
     "name": "stdout",
     "output_type": "stream",
     "text": [
      "$525.0\n",
      "$472.5\n",
      "$450.0\n"
     ]
    }
   ],
   "source": [
    "def netPrice(listPrice, discount = 0, tax = 0.05):\n",
    "    return listPrice * (1 - discount) * (1 + tax)\n",
    "\n",
    "print(f\"${netPrice(500)}\")\n",
    "print(f\"${netPrice(500, 0.1)}\")\n",
    "print(f\"${netPrice(500, 0.1, 0)}\")"
   ]
  },
  {
   "cell_type": "code",
   "execution_count": null,
   "id": "c5db9196",
   "metadata": {},
   "outputs": [],
   "source": []
  }
 ],
 "metadata": {
  "kernelspec": {
   "display_name": "Python 3",
   "language": "python",
   "name": "python3"
  },
  "language_info": {
   "codemirror_mode": {
    "name": "ipython",
    "version": 3
   },
   "file_extension": ".py",
   "mimetype": "text/x-python",
   "name": "python",
   "nbconvert_exporter": "python",
   "pygments_lexer": "ipython3",
   "version": "3.13.4"
  }
 },
 "nbformat": 4,
 "nbformat_minor": 5
}
