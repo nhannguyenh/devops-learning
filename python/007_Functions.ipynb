{
 "cells": [
  {
   "metadata": {},
   "cell_type": "markdown",
   "source": [
    "# Function\n",
    "A block of reusable code, place () after the function name to invoke it"
   ],
   "id": "b440f1078f919f9c"
  },
  {
   "cell_type": "code",
   "id": "initial_id",
   "metadata": {
    "collapsed": true,
    "ExecuteTime": {
     "end_time": "2025-06-25T16:25:57.205102Z",
     "start_time": "2025-06-25T16:25:57.200272Z"
    }
   },
   "source": [
    "def greeting(name, age):\n",
    "    print(f\"Hello {name}\")\n",
    "    print(f\"You are {age} years old\")\n",
    "\n",
    "greeting(\"Jackie\", 35)"
   ],
   "outputs": [
    {
     "name": "stdout",
     "output_type": "stream",
     "text": [
      "Hello Jackie\n",
      "You are 35 years old\n"
     ]
    }
   ],
   "execution_count": 5
  },
  {
   "metadata": {
    "ExecuteTime": {
     "end_time": "2025-06-25T16:28:56.246077Z",
     "start_time": "2025-06-25T16:28:56.241800Z"
    }
   },
   "cell_type": "code",
   "source": [
    "def add(num1, num2):\n",
    "    return num1 + num2\n",
    "\n",
    "print(add(3, 4))"
   ],
   "id": "5c6c4e4f93a5dc27",
   "outputs": [
    {
     "name": "stdout",
     "output_type": "stream",
     "text": [
      "7\n"
     ]
    }
   ],
   "execution_count": 6
  }
 ],
 "metadata": {
  "kernelspec": {
   "display_name": "Python 3",
   "language": "python",
   "name": "python3"
  },
  "language_info": {
   "codemirror_mode": {
    "name": "ipython",
    "version": 2
   },
   "file_extension": ".py",
   "mimetype": "text/x-python",
   "name": "python",
   "nbconvert_exporter": "python",
   "pygments_lexer": "ipython2",
   "version": "2.7.6"
  }
 },
 "nbformat": 4,
 "nbformat_minor": 5
}
