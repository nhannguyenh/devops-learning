{
 "cells": [
  {
   "metadata": {},
   "cell_type": "markdown",
   "source": [
    "# File Handling\n",
    "## File detection"
   ],
   "id": "56f784662f606bd7"
  },
  {
   "cell_type": "code",
   "id": "initial_id",
   "metadata": {
    "collapsed": true,
    "ExecuteTime": {
     "end_time": "2025-07-04T17:31:10.958255Z",
     "start_time": "2025-07-04T17:31:10.953513Z"
    }
   },
   "source": [
    "import os\n",
    "\n",
    "from urllib3.filepost import writer\n",
    "\n",
    "file_path = \"resources/test.txt\"\n",
    "\n",
    "if os.path.exists(file_path):\n",
    "    print(f\"The location file '{file_path}' exists.\")\n",
    "    if os.path.isfile(file_path):\n",
    "        print(\"That is a file\")\n",
    "    elif os.path.isdir(file_path):\n",
    "        print(\"That is a directory\")\n",
    "else:\n",
    "    print(\"That location doesn't exist.\")"
   ],
   "outputs": [
    {
     "name": "stdout",
     "output_type": "stream",
     "text": [
      "The location file 'resources/test.txt' exists.\n",
      "That is a file\n"
     ]
    }
   ],
   "execution_count": 4
  },
  {
   "metadata": {},
   "cell_type": "markdown",
   "source": "## Writing files",
   "id": "dbea05be2864a0a7"
  },
  {
   "metadata": {
    "ExecuteTime": {
     "end_time": "2025-07-04T17:45:26.805739Z",
     "start_time": "2025-07-04T17:45:26.800527Z"
    }
   },
   "cell_type": "code",
   "source": [
    "fruits = [\"Apple\", \"Orange\", \"Mango\", \"Banana\"]\n",
    "\n",
    "file_path = \"resources/output.txt\"\n",
    "\n",
    "try:\n",
    "    with open(file_path, \"a\") as file:\n",
    "        for fruit in fruits:\n",
    "            file.write(fruit + \"\\n\")\n",
    "        print(f\"The file '{file_path}' has been created.\")\n",
    "except FileExistsError:\n",
    "    print(f\"The file '{file_path}' already exists.\")"
   ],
   "id": "7f7e8a556ef8a5e",
   "outputs": [
    {
     "name": "stdout",
     "output_type": "stream",
     "text": [
      "The file 'resources/output.txt' has been created.\n"
     ]
    }
   ],
   "execution_count": 14
  },
  {
   "metadata": {
    "ExecuteTime": {
     "end_time": "2025-07-04T17:49:21.837320Z",
     "start_time": "2025-07-04T17:49:21.833082Z"
    }
   },
   "cell_type": "code",
   "source": [
    "import json\n",
    "\n",
    "employee = {\n",
    "    \"name\": \"Jackie\",\n",
    "    \"age\": 33,\n",
    "    \"job\": \"Engineer\"\n",
    "}\n",
    "\n",
    "file_path = \"resources/output.json\"\n",
    "\n",
    "try:\n",
    "    with open(file_path, \"w\") as file:\n",
    "        json.dump(employee, file, indent=2)\n",
    "        print(f\"The file '{file_path}' has been created.\")\n",
    "except FileExistsError:\n",
    "    print(f\"The file '{file_path}' already exists.\")"
   ],
   "id": "a2e1cfe76af88429",
   "outputs": [
    {
     "name": "stdout",
     "output_type": "stream",
     "text": [
      "The file 'resources/output.json' has been created.\n"
     ]
    }
   ],
   "execution_count": 18
  },
  {
   "metadata": {
    "ExecuteTime": {
     "end_time": "2025-07-04T17:53:13.152597Z",
     "start_time": "2025-07-04T17:53:13.145722Z"
    }
   },
   "cell_type": "code",
   "source": [
    "import csv\n",
    "\n",
    "employee = [\n",
    "    [\"Name\", \"Age\", \"Job\"],\n",
    "    [\"Jackie\", 33, \"Engineer\"],\n",
    "    [\"Patrick\", 37, \"Cook\"]\n",
    "]\n",
    "\n",
    "file_path = \"resources/output.csv\"\n",
    "\n",
    "try:\n",
    "    with open(file_path, \"w\", newline=\"\") as file:\n",
    "        writer = csv.writer(file)\n",
    "        for row in employee:\n",
    "            writer.writerow(row)\n",
    "        print(f\"The file '{file_path}' has been created.\")\n",
    "except FileExistsError:\n",
    "    print(f\"The file '{file_path}' already exists.\")"
   ],
   "id": "bbbda2e1a84cc4b9",
   "outputs": [
    {
     "name": "stdout",
     "output_type": "stream",
     "text": [
      "The file 'resources/output.csv' has been created.\n"
     ]
    }
   ],
   "execution_count": 22
  }
 ],
 "metadata": {
  "kernelspec": {
   "display_name": "Python 3",
   "language": "python",
   "name": "python3"
  },
  "language_info": {
   "codemirror_mode": {
    "name": "ipython",
    "version": 2
   },
   "file_extension": ".py",
   "mimetype": "text/x-python",
   "name": "python",
   "nbconvert_exporter": "python",
   "pygments_lexer": "ipython2",
   "version": "2.7.6"
  }
 },
 "nbformat": 4,
 "nbformat_minor": 5
}
