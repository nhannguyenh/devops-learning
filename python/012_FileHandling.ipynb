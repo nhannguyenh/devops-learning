{
 "cells": [
  {
   "metadata": {},
   "cell_type": "markdown",
   "source": [
    "# File Handling\n",
    "## File detection"
   ],
   "id": "56f784662f606bd7"
  },
  {
   "cell_type": "code",
   "id": "initial_id",
   "metadata": {
    "collapsed": true,
    "ExecuteTime": {
     "end_time": "2025-07-04T17:31:10.958255Z",
     "start_time": "2025-07-04T17:31:10.953513Z"
    }
   },
   "source": [
    "import os\n",
    "\n",
    "file_path = \"resources/test.txt\"\n",
    "\n",
    "if os.path.exists(file_path):\n",
    "    print(f\"The location file '{file_path}' exists.\")\n",
    "    if os.path.isfile(file_path):\n",
    "        print(\"That is a file\")\n",
    "    elif os.path.isdir(file_path):\n",
    "        print(\"That is a directory\")\n",
    "else:\n",
    "    print(\"That location doesn't exist.\")"
   ],
   "outputs": [
    {
     "name": "stdout",
     "output_type": "stream",
     "text": [
      "The location file 'resources/test.txt' exists.\n",
      "That is a file\n"
     ]
    }
   ],
   "execution_count": 4
  },
  {
   "metadata": {},
   "cell_type": "code",
   "outputs": [],
   "execution_count": null,
   "source": "",
   "id": "7f7e8a556ef8a5e"
  }
 ],
 "metadata": {
  "kernelspec": {
   "display_name": "Python 3",
   "language": "python",
   "name": "python3"
  },
  "language_info": {
   "codemirror_mode": {
    "name": "ipython",
    "version": 2
   },
   "file_extension": ".py",
   "mimetype": "text/x-python",
   "name": "python",
   "nbconvert_exporter": "python",
   "pygments_lexer": "ipython2",
   "version": "2.7.6"
  }
 },
 "nbformat": 4,
 "nbformat_minor": 5
}
